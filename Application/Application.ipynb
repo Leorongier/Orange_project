{
  "nbformat": 4,
  "nbformat_minor": 0,
  "metadata": {
    "colab": {
      "provenance": []
    },
    "kernelspec": {
      "name": "python3",
      "display_name": "Python 3"
    },
    "language_info": {
      "name": "python"
    }
  },
  "cells": [
    {
      "cell_type": "code",
      "source": [
        "#@title Welcome to our application launcher ! Please execute the code and follow the instructions\n",
        "# Import necessary libraries\n",
        "import os\n",
        "import requests\n",
        "from zipfile import ZipFile\n",
        "from io import BytesIO\n",
        "import subprocess\n",
        "import sys\n",
        "\n",
        "# Function to install Python packages using pip\n",
        "def install(package):\n",
        "    # Using subprocess to call pip install for the package\n",
        "    subprocess.check_call([sys.executable, \"-m\", \"pip\", \"install\", package])\n",
        "\n",
        "# URL to download the GitHub repository as a zip file\n",
        "zip_url = 'https://codeload.github.com/Leorongier/Orange_project/zip/refs/heads/main'\n",
        "\n",
        "# Function to download and extract the project from GitHub\n",
        "def setup_project(zip_url):\n",
        "    # Sending a request to the provided URL to download the zip file\n",
        "    response = requests.get(zip_url)\n",
        "    # Extracting the content of the zip file\n",
        "    with ZipFile(BytesIO(response.content)) as thezip:\n",
        "        thezip.extractall()\n",
        "\n",
        "# Execute the function to setup the project\n",
        "setup_project(zip_url)\n",
        "\n",
        "# Install necessary Python packages - sacremoses and streamlit\n",
        "install('sacremoses')\n",
        "install('streamlit')\n",
        "\n",
        "# Execute the command to run the Streamlit app and open a localtunnel\n",
        "command = \"streamlit run Orange_project-main/CEFR_Classifier_French/app.py & npx localtunnel --port 8501\"\n",
        "# Start the subprocess and capture its output\n",
        "process = subprocess.Popen(command, shell=True, stdout=subprocess.PIPE, stderr=subprocess.PIPE)\n",
        "\n",
        "# Read the command output line by line\n",
        "url = \"\"\n",
        "for line in process.stdout:\n",
        "    decoded_line = line.decode(\"utf-8\")\n",
        "    # Look for the line that contains the localtunnel URL\n",
        "    if \"your url is:\" in decoded_line:\n",
        "        url = decoded_line.strip()\n",
        "        break\n",
        "\n",
        "# Print the instructions for accessing the Streamlit app\n",
        "print(\"Your public IP address is:\", ip_address)\n",
        "print(\"Please copy this IP address and paste it on the following web page:\")\n",
        "print(url)\n",
        "print(\"After pasting the IP address, submit the form to access the application.\")"
      ],
      "metadata": {
        "id": "LycBy7v31zEx",
        "outputId": "b32e9d42-9755-4f6b-ab7a-739626af3095",
        "colab": {
          "base_uri": "https://localhost:8080/"
        },
        "cellView": "form"
      },
      "execution_count": 5,
      "outputs": [
        {
          "output_type": "stream",
          "name": "stdout",
          "text": [
            "Your public IP address is: 34.68.134.66\n",
            "Please copy this IP address and paste it on the following web page:\n",
            "your url is: https://modern-buckets-know.loca.lt\n",
            "After pasting the IP address, submit the form to access the application.\n"
          ]
        }
      ]
    }
  ]
}