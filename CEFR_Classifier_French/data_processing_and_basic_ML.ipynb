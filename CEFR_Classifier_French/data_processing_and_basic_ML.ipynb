{
 "cells": [
  {
   "cell_type": "code",
   "execution_count": 132,
   "metadata": {},
   "outputs": [],
   "source": [
    "# Suppressing all warnings for a cleaner output\n",
    "import warnings\n",
    "warnings.filterwarnings('ignore')\n",
    "from sklearn.exceptions import ConvergenceWarning\n",
    "warnings.filterwarnings(\"ignore\", category=ConvergenceWarning)\n",
    "\n",
    "# Importing essential libraries for data handling and visualization\n",
    "import pandas as pd # For data manipulation\n",
    "import plotly.express as px # For interactive plots\n",
    "from sklearn.linear_model import LogisticRegression # Logistic Regression model\n",
    "from sklearn.neighbors import KNeighborsClassifier # K-Nearest Neighbors model\n",
    "from sklearn.feature_extraction.text import TfidfVectorizer , CountVectorizer # Text feature extraction\n",
    "from sklearn.pipeline import Pipeline  # To create a processing pipeline\n",
    "from sklearn.model_selection import GridSearchCV # For hyperparameter tuning\n",
    "from sklearn.metrics import accuracy_score, classification_report # Model evaluation metrics\n",
    "import plotly.graph_objects as go # Advanced plotting\n",
    "from sklearn.ensemble import RandomForestClassifier  # Random Forest model\n",
    "from sklearn.tree import DecisionTreeClassifier # Decision Tree model\n",
    "\n",
    "# Re-importing warnings which seems redundant and could be removed\n",
    "import warnings \n",
    "\n",
    "\n"
   ]
  },
  {
   "cell_type": "code",
   "execution_count": null,
   "metadata": {},
   "outputs": [],
   "source": [
    "# Loading the training dataset\n",
    "data = pd.read_csv('training_data.csv')"
   ]
  },
  {
   "cell_type": "code",
   "execution_count": 134,
   "metadata": {},
   "outputs": [
    {
     "data": {
      "text/html": [
       "<div>\n",
       "<style scoped>\n",
       "    .dataframe tbody tr th:only-of-type {\n",
       "        vertical-align: middle;\n",
       "    }\n",
       "\n",
       "    .dataframe tbody tr th {\n",
       "        vertical-align: top;\n",
       "    }\n",
       "\n",
       "    .dataframe thead th {\n",
       "        text-align: right;\n",
       "    }\n",
       "</style>\n",
       "<table border=\"1\" class=\"dataframe\">\n",
       "  <thead>\n",
       "    <tr style=\"text-align: right;\">\n",
       "      <th></th>\n",
       "      <th>id</th>\n",
       "      <th>sentence</th>\n",
       "      <th>difficulty</th>\n",
       "    </tr>\n",
       "  </thead>\n",
       "  <tbody>\n",
       "    <tr>\n",
       "      <th>0</th>\n",
       "      <td>0</td>\n",
       "      <td>Les coûts kilométriques réels peuvent diverger...</td>\n",
       "      <td>C1</td>\n",
       "    </tr>\n",
       "    <tr>\n",
       "      <th>1</th>\n",
       "      <td>1</td>\n",
       "      <td>Le bleu, c'est ma couleur préférée mais je n'a...</td>\n",
       "      <td>A1</td>\n",
       "    </tr>\n",
       "    <tr>\n",
       "      <th>2</th>\n",
       "      <td>2</td>\n",
       "      <td>Le test de niveau en français est sur le site ...</td>\n",
       "      <td>A1</td>\n",
       "    </tr>\n",
       "    <tr>\n",
       "      <th>3</th>\n",
       "      <td>3</td>\n",
       "      <td>Est-ce que ton mari est aussi de Boston?</td>\n",
       "      <td>A1</td>\n",
       "    </tr>\n",
       "    <tr>\n",
       "      <th>4</th>\n",
       "      <td>4</td>\n",
       "      <td>Dans les écoles de commerce, dans les couloirs...</td>\n",
       "      <td>B1</td>\n",
       "    </tr>\n",
       "    <tr>\n",
       "      <th>...</th>\n",
       "      <td>...</td>\n",
       "      <td>...</td>\n",
       "      <td>...</td>\n",
       "    </tr>\n",
       "    <tr>\n",
       "      <th>4795</th>\n",
       "      <td>4795</td>\n",
       "      <td>C'est pourquoi, il décida de remplacer les hab...</td>\n",
       "      <td>B2</td>\n",
       "    </tr>\n",
       "    <tr>\n",
       "      <th>4796</th>\n",
       "      <td>4796</td>\n",
       "      <td>Il avait une de ces pâleurs splendides qui don...</td>\n",
       "      <td>C1</td>\n",
       "    </tr>\n",
       "    <tr>\n",
       "      <th>4797</th>\n",
       "      <td>4797</td>\n",
       "      <td>Et le premier samedi de chaque mois, venez ren...</td>\n",
       "      <td>A2</td>\n",
       "    </tr>\n",
       "    <tr>\n",
       "      <th>4798</th>\n",
       "      <td>4798</td>\n",
       "      <td>Les coûts liés à la journalisation n'étant pas...</td>\n",
       "      <td>C2</td>\n",
       "    </tr>\n",
       "    <tr>\n",
       "      <th>4799</th>\n",
       "      <td>4799</td>\n",
       "      <td>Sur le sable, la mer haletait de toute la resp...</td>\n",
       "      <td>C2</td>\n",
       "    </tr>\n",
       "  </tbody>\n",
       "</table>\n",
       "<p>4800 rows × 3 columns</p>\n",
       "</div>"
      ],
      "text/plain": [
       "        id                                           sentence difficulty\n",
       "0        0  Les coûts kilométriques réels peuvent diverger...         C1\n",
       "1        1  Le bleu, c'est ma couleur préférée mais je n'a...         A1\n",
       "2        2  Le test de niveau en français est sur le site ...         A1\n",
       "3        3           Est-ce que ton mari est aussi de Boston?         A1\n",
       "4        4  Dans les écoles de commerce, dans les couloirs...         B1\n",
       "...    ...                                                ...        ...\n",
       "4795  4795  C'est pourquoi, il décida de remplacer les hab...         B2\n",
       "4796  4796  Il avait une de ces pâleurs splendides qui don...         C1\n",
       "4797  4797  Et le premier samedi de chaque mois, venez ren...         A2\n",
       "4798  4798  Les coûts liés à la journalisation n'étant pas...         C2\n",
       "4799  4799  Sur le sable, la mer haletait de toute la resp...         C2\n",
       "\n",
       "[4800 rows x 3 columns]"
      ]
     },
     "execution_count": 134,
     "metadata": {},
     "output_type": "execute_result"
    }
   ],
   "source": [
    "# Displaying the first few rows of the dataset\n",
    "data"
   ]
  },
  {
   "cell_type": "code",
   "execution_count": 135,
   "metadata": {},
   "outputs": [
    {
     "name": "stdout",
     "output_type": "stream",
     "text": [
      "(4800, 3)\n"
     ]
    }
   ],
   "source": [
    "# Printing the shape of the dataset to understand its size \n",
    "\n",
    "print(data.shape)"
   ]
  },
  {
   "cell_type": "code",
   "execution_count": null,
   "metadata": {},
   "outputs": [
    {
     "name": "stdout",
     "output_type": "stream",
     "text": [
      "['C1' 'A1' 'B1' 'A2' 'B2' 'C2']\n"
     ]
    }
   ],
   "source": [
    "# Printing unique values in the 'difficulty' column to understand the classification categories\n",
    "print(data['difficulty'].unique())"
   ]
  },
  {
   "cell_type": "markdown",
   "metadata": {},
   "source": [
    "# Data Exploration "
   ]
  },
  {
   "cell_type": "code",
   "execution_count": 137,
   "metadata": {},
   "outputs": [],
   "source": [
    "# Grouping data by 'difficulty' and aggregating sentences\n",
    "data_grouped = data[['difficulty','sentence']].groupby(['difficulty']).agg(list)\n",
    "\n",
    "# Calculating the average length of sentences for each difficulty level\n",
    "data_grouped['avg_len'] = data_grouped['sentence'].apply(lambda x: sum([len(i) for i in x])/len(x))"
   ]
  },
  {
   "cell_type": "code",
   "execution_count": 138,
   "metadata": {},
   "outputs": [
    {
     "data": {
      "text/html": [
       "<div>\n",
       "<style scoped>\n",
       "    .dataframe tbody tr th:only-of-type {\n",
       "        vertical-align: middle;\n",
       "    }\n",
       "\n",
       "    .dataframe tbody tr th {\n",
       "        vertical-align: top;\n",
       "    }\n",
       "\n",
       "    .dataframe thead th {\n",
       "        text-align: right;\n",
       "    }\n",
       "</style>\n",
       "<table border=\"1\" class=\"dataframe\">\n",
       "  <thead>\n",
       "    <tr style=\"text-align: right;\">\n",
       "      <th></th>\n",
       "      <th>sentence</th>\n",
       "      <th>avg_len</th>\n",
       "    </tr>\n",
       "    <tr>\n",
       "      <th>difficulty</th>\n",
       "      <th></th>\n",
       "      <th></th>\n",
       "    </tr>\n",
       "  </thead>\n",
       "  <tbody>\n",
       "    <tr>\n",
       "      <th>A1</th>\n",
       "      <td>[Le bleu, c'est ma couleur préférée mais je n'...</td>\n",
       "      <td>39.172202</td>\n",
       "    </tr>\n",
       "    <tr>\n",
       "      <th>A2</th>\n",
       "      <td>[voilà une autre histoire que j'ai beaucoup ai...</td>\n",
       "      <td>61.547170</td>\n",
       "    </tr>\n",
       "    <tr>\n",
       "      <th>B1</th>\n",
       "      <td>[Dans les écoles de commerce, dans les couloir...</td>\n",
       "      <td>84.582390</td>\n",
       "    </tr>\n",
       "    <tr>\n",
       "      <th>B2</th>\n",
       "      <td>[Il est particulièrement observé chez les pers...</td>\n",
       "      <td>120.902778</td>\n",
       "    </tr>\n",
       "    <tr>\n",
       "      <th>C1</th>\n",
       "      <td>[Les coûts kilométriques réels peuvent diverge...</td>\n",
       "      <td>156.444862</td>\n",
       "    </tr>\n",
       "    <tr>\n",
       "      <th>C2</th>\n",
       "      <td>[Ma timidité me quittait dès que je m'éloignai...</td>\n",
       "      <td>199.612144</td>\n",
       "    </tr>\n",
       "  </tbody>\n",
       "</table>\n",
       "</div>"
      ],
      "text/plain": [
       "                                                     sentence     avg_len\n",
       "difficulty                                                               \n",
       "A1          [Le bleu, c'est ma couleur préférée mais je n'...   39.172202\n",
       "A2          [voilà une autre histoire que j'ai beaucoup ai...   61.547170\n",
       "B1          [Dans les écoles de commerce, dans les couloir...   84.582390\n",
       "B2          [Il est particulièrement observé chez les pers...  120.902778\n",
       "C1          [Les coûts kilométriques réels peuvent diverge...  156.444862\n",
       "C2          [Ma timidité me quittait dès que je m'éloignai...  199.612144"
      ]
     },
     "execution_count": 138,
     "metadata": {},
     "output_type": "execute_result"
    }
   ],
   "source": [
    "# Displaying the grouped data\n",
    "data_grouped"
   ]
  },
  {
   "cell_type": "code",
   "execution_count": 139,
   "metadata": {},
   "outputs": [
    {
     "data": {
      "application/vnd.plotly.v1+json": {
       "config": {
        "plotlyServerURL": "https://plot.ly"
       },
       "data": [
        {
         "alignmentgroup": "True",
         "hovertemplate": "difficulty=%{x}<br>avg_len=%{y}<extra></extra>",
         "legendgroup": "A1",
         "marker": {
          "color": "#636efa",
          "pattern": {
           "shape": ""
          }
         },
         "name": "A1",
         "offsetgroup": "A1",
         "orientation": "v",
         "showlegend": true,
         "textposition": "auto",
         "type": "bar",
         "x": [
          "A1"
         ],
         "xaxis": "x",
         "y": [
          39.17220172201722
         ],
         "yaxis": "y"
        },
        {
         "alignmentgroup": "True",
         "hovertemplate": "difficulty=%{x}<br>avg_len=%{y}<extra></extra>",
         "legendgroup": "A2",
         "marker": {
          "color": "#EF553B",
          "pattern": {
           "shape": ""
          }
         },
         "name": "A2",
         "offsetgroup": "A2",
         "orientation": "v",
         "showlegend": true,
         "textposition": "auto",
         "type": "bar",
         "x": [
          "A2"
         ],
         "xaxis": "x",
         "y": [
          61.54716981132076
         ],
         "yaxis": "y"
        },
        {
         "alignmentgroup": "True",
         "hovertemplate": "difficulty=%{x}<br>avg_len=%{y}<extra></extra>",
         "legendgroup": "B1",
         "marker": {
          "color": "#00cc96",
          "pattern": {
           "shape": ""
          }
         },
         "name": "B1",
         "offsetgroup": "B1",
         "orientation": "v",
         "showlegend": true,
         "textposition": "auto",
         "type": "bar",
         "x": [
          "B1"
         ],
         "xaxis": "x",
         "y": [
          84.58238993710692
         ],
         "yaxis": "y"
        },
        {
         "alignmentgroup": "True",
         "hovertemplate": "difficulty=%{x}<br>avg_len=%{y}<extra></extra>",
         "legendgroup": "B2",
         "marker": {
          "color": "#ab63fa",
          "pattern": {
           "shape": ""
          }
         },
         "name": "B2",
         "offsetgroup": "B2",
         "orientation": "v",
         "showlegend": true,
         "textposition": "auto",
         "type": "bar",
         "x": [
          "B2"
         ],
         "xaxis": "x",
         "y": [
          120.90277777777777
         ],
         "yaxis": "y"
        },
        {
         "alignmentgroup": "True",
         "hovertemplate": "difficulty=%{x}<br>avg_len=%{y}<extra></extra>",
         "legendgroup": "C1",
         "marker": {
          "color": "#FFA15A",
          "pattern": {
           "shape": ""
          }
         },
         "name": "C1",
         "offsetgroup": "C1",
         "orientation": "v",
         "showlegend": true,
         "textposition": "auto",
         "type": "bar",
         "x": [
          "C1"
         ],
         "xaxis": "x",
         "y": [
          156.44486215538848
         ],
         "yaxis": "y"
        },
        {
         "alignmentgroup": "True",
         "hovertemplate": "difficulty=%{x}<br>avg_len=%{y}<extra></extra>",
         "legendgroup": "C2",
         "marker": {
          "color": "#19d3f3",
          "pattern": {
           "shape": ""
          }
         },
         "name": "C2",
         "offsetgroup": "C2",
         "orientation": "v",
         "showlegend": true,
         "textposition": "auto",
         "type": "bar",
         "x": [
          "C2"
         ],
         "xaxis": "x",
         "y": [
          199.61214374225526
         ],
         "yaxis": "y"
        }
       ],
       "layout": {
        "barmode": "relative",
        "legend": {
         "title": {
          "text": "difficulty"
         },
         "tracegroupgap": 0
        },
        "template": {
         "data": {
          "bar": [
           {
            "error_x": {
             "color": "#2a3f5f"
            },
            "error_y": {
             "color": "#2a3f5f"
            },
            "marker": {
             "line": {
              "color": "#E5ECF6",
              "width": 0.5
             },
             "pattern": {
              "fillmode": "overlay",
              "size": 10,
              "solidity": 0.2
             }
            },
            "type": "bar"
           }
          ],
          "barpolar": [
           {
            "marker": {
             "line": {
              "color": "#E5ECF6",
              "width": 0.5
             },
             "pattern": {
              "fillmode": "overlay",
              "size": 10,
              "solidity": 0.2
             }
            },
            "type": "barpolar"
           }
          ],
          "carpet": [
           {
            "aaxis": {
             "endlinecolor": "#2a3f5f",
             "gridcolor": "white",
             "linecolor": "white",
             "minorgridcolor": "white",
             "startlinecolor": "#2a3f5f"
            },
            "baxis": {
             "endlinecolor": "#2a3f5f",
             "gridcolor": "white",
             "linecolor": "white",
             "minorgridcolor": "white",
             "startlinecolor": "#2a3f5f"
            },
            "type": "carpet"
           }
          ],
          "choropleth": [
           {
            "colorbar": {
             "outlinewidth": 0,
             "ticks": ""
            },
            "type": "choropleth"
           }
          ],
          "contour": [
           {
            "colorbar": {
             "outlinewidth": 0,
             "ticks": ""
            },
            "colorscale": [
             [
              0,
              "#0d0887"
             ],
             [
              0.1111111111111111,
              "#46039f"
             ],
             [
              0.2222222222222222,
              "#7201a8"
             ],
             [
              0.3333333333333333,
              "#9c179e"
             ],
             [
              0.4444444444444444,
              "#bd3786"
             ],
             [
              0.5555555555555556,
              "#d8576b"
             ],
             [
              0.6666666666666666,
              "#ed7953"
             ],
             [
              0.7777777777777778,
              "#fb9f3a"
             ],
             [
              0.8888888888888888,
              "#fdca26"
             ],
             [
              1,
              "#f0f921"
             ]
            ],
            "type": "contour"
           }
          ],
          "contourcarpet": [
           {
            "colorbar": {
             "outlinewidth": 0,
             "ticks": ""
            },
            "type": "contourcarpet"
           }
          ],
          "heatmap": [
           {
            "colorbar": {
             "outlinewidth": 0,
             "ticks": ""
            },
            "colorscale": [
             [
              0,
              "#0d0887"
             ],
             [
              0.1111111111111111,
              "#46039f"
             ],
             [
              0.2222222222222222,
              "#7201a8"
             ],
             [
              0.3333333333333333,
              "#9c179e"
             ],
             [
              0.4444444444444444,
              "#bd3786"
             ],
             [
              0.5555555555555556,
              "#d8576b"
             ],
             [
              0.6666666666666666,
              "#ed7953"
             ],
             [
              0.7777777777777778,
              "#fb9f3a"
             ],
             [
              0.8888888888888888,
              "#fdca26"
             ],
             [
              1,
              "#f0f921"
             ]
            ],
            "type": "heatmap"
           }
          ],
          "heatmapgl": [
           {
            "colorbar": {
             "outlinewidth": 0,
             "ticks": ""
            },
            "colorscale": [
             [
              0,
              "#0d0887"
             ],
             [
              0.1111111111111111,
              "#46039f"
             ],
             [
              0.2222222222222222,
              "#7201a8"
             ],
             [
              0.3333333333333333,
              "#9c179e"
             ],
             [
              0.4444444444444444,
              "#bd3786"
             ],
             [
              0.5555555555555556,
              "#d8576b"
             ],
             [
              0.6666666666666666,
              "#ed7953"
             ],
             [
              0.7777777777777778,
              "#fb9f3a"
             ],
             [
              0.8888888888888888,
              "#fdca26"
             ],
             [
              1,
              "#f0f921"
             ]
            ],
            "type": "heatmapgl"
           }
          ],
          "histogram": [
           {
            "marker": {
             "pattern": {
              "fillmode": "overlay",
              "size": 10,
              "solidity": 0.2
             }
            },
            "type": "histogram"
           }
          ],
          "histogram2d": [
           {
            "colorbar": {
             "outlinewidth": 0,
             "ticks": ""
            },
            "colorscale": [
             [
              0,
              "#0d0887"
             ],
             [
              0.1111111111111111,
              "#46039f"
             ],
             [
              0.2222222222222222,
              "#7201a8"
             ],
             [
              0.3333333333333333,
              "#9c179e"
             ],
             [
              0.4444444444444444,
              "#bd3786"
             ],
             [
              0.5555555555555556,
              "#d8576b"
             ],
             [
              0.6666666666666666,
              "#ed7953"
             ],
             [
              0.7777777777777778,
              "#fb9f3a"
             ],
             [
              0.8888888888888888,
              "#fdca26"
             ],
             [
              1,
              "#f0f921"
             ]
            ],
            "type": "histogram2d"
           }
          ],
          "histogram2dcontour": [
           {
            "colorbar": {
             "outlinewidth": 0,
             "ticks": ""
            },
            "colorscale": [
             [
              0,
              "#0d0887"
             ],
             [
              0.1111111111111111,
              "#46039f"
             ],
             [
              0.2222222222222222,
              "#7201a8"
             ],
             [
              0.3333333333333333,
              "#9c179e"
             ],
             [
              0.4444444444444444,
              "#bd3786"
             ],
             [
              0.5555555555555556,
              "#d8576b"
             ],
             [
              0.6666666666666666,
              "#ed7953"
             ],
             [
              0.7777777777777778,
              "#fb9f3a"
             ],
             [
              0.8888888888888888,
              "#fdca26"
             ],
             [
              1,
              "#f0f921"
             ]
            ],
            "type": "histogram2dcontour"
           }
          ],
          "mesh3d": [
           {
            "colorbar": {
             "outlinewidth": 0,
             "ticks": ""
            },
            "type": "mesh3d"
           }
          ],
          "parcoords": [
           {
            "line": {
             "colorbar": {
              "outlinewidth": 0,
              "ticks": ""
             }
            },
            "type": "parcoords"
           }
          ],
          "pie": [
           {
            "automargin": true,
            "type": "pie"
           }
          ],
          "scatter": [
           {
            "marker": {
             "colorbar": {
              "outlinewidth": 0,
              "ticks": ""
             }
            },
            "type": "scatter"
           }
          ],
          "scatter3d": [
           {
            "line": {
             "colorbar": {
              "outlinewidth": 0,
              "ticks": ""
             }
            },
            "marker": {
             "colorbar": {
              "outlinewidth": 0,
              "ticks": ""
             }
            },
            "type": "scatter3d"
           }
          ],
          "scattercarpet": [
           {
            "marker": {
             "colorbar": {
              "outlinewidth": 0,
              "ticks": ""
             }
            },
            "type": "scattercarpet"
           }
          ],
          "scattergeo": [
           {
            "marker": {
             "colorbar": {
              "outlinewidth": 0,
              "ticks": ""
             }
            },
            "type": "scattergeo"
           }
          ],
          "scattergl": [
           {
            "marker": {
             "colorbar": {
              "outlinewidth": 0,
              "ticks": ""
             }
            },
            "type": "scattergl"
           }
          ],
          "scattermapbox": [
           {
            "marker": {
             "colorbar": {
              "outlinewidth": 0,
              "ticks": ""
             }
            },
            "type": "scattermapbox"
           }
          ],
          "scatterpolar": [
           {
            "marker": {
             "colorbar": {
              "outlinewidth": 0,
              "ticks": ""
             }
            },
            "type": "scatterpolar"
           }
          ],
          "scatterpolargl": [
           {
            "marker": {
             "colorbar": {
              "outlinewidth": 0,
              "ticks": ""
             }
            },
            "type": "scatterpolargl"
           }
          ],
          "scatterternary": [
           {
            "marker": {
             "colorbar": {
              "outlinewidth": 0,
              "ticks": ""
             }
            },
            "type": "scatterternary"
           }
          ],
          "surface": [
           {
            "colorbar": {
             "outlinewidth": 0,
             "ticks": ""
            },
            "colorscale": [
             [
              0,
              "#0d0887"
             ],
             [
              0.1111111111111111,
              "#46039f"
             ],
             [
              0.2222222222222222,
              "#7201a8"
             ],
             [
              0.3333333333333333,
              "#9c179e"
             ],
             [
              0.4444444444444444,
              "#bd3786"
             ],
             [
              0.5555555555555556,
              "#d8576b"
             ],
             [
              0.6666666666666666,
              "#ed7953"
             ],
             [
              0.7777777777777778,
              "#fb9f3a"
             ],
             [
              0.8888888888888888,
              "#fdca26"
             ],
             [
              1,
              "#f0f921"
             ]
            ],
            "type": "surface"
           }
          ],
          "table": [
           {
            "cells": {
             "fill": {
              "color": "#EBF0F8"
             },
             "line": {
              "color": "white"
             }
            },
            "header": {
             "fill": {
              "color": "#C8D4E3"
             },
             "line": {
              "color": "white"
             }
            },
            "type": "table"
           }
          ]
         },
         "layout": {
          "annotationdefaults": {
           "arrowcolor": "#2a3f5f",
           "arrowhead": 0,
           "arrowwidth": 1
          },
          "autotypenumbers": "strict",
          "coloraxis": {
           "colorbar": {
            "outlinewidth": 0,
            "ticks": ""
           }
          },
          "colorscale": {
           "diverging": [
            [
             0,
             "#8e0152"
            ],
            [
             0.1,
             "#c51b7d"
            ],
            [
             0.2,
             "#de77ae"
            ],
            [
             0.3,
             "#f1b6da"
            ],
            [
             0.4,
             "#fde0ef"
            ],
            [
             0.5,
             "#f7f7f7"
            ],
            [
             0.6,
             "#e6f5d0"
            ],
            [
             0.7,
             "#b8e186"
            ],
            [
             0.8,
             "#7fbc41"
            ],
            [
             0.9,
             "#4d9221"
            ],
            [
             1,
             "#276419"
            ]
           ],
           "sequential": [
            [
             0,
             "#0d0887"
            ],
            [
             0.1111111111111111,
             "#46039f"
            ],
            [
             0.2222222222222222,
             "#7201a8"
            ],
            [
             0.3333333333333333,
             "#9c179e"
            ],
            [
             0.4444444444444444,
             "#bd3786"
            ],
            [
             0.5555555555555556,
             "#d8576b"
            ],
            [
             0.6666666666666666,
             "#ed7953"
            ],
            [
             0.7777777777777778,
             "#fb9f3a"
            ],
            [
             0.8888888888888888,
             "#fdca26"
            ],
            [
             1,
             "#f0f921"
            ]
           ],
           "sequentialminus": [
            [
             0,
             "#0d0887"
            ],
            [
             0.1111111111111111,
             "#46039f"
            ],
            [
             0.2222222222222222,
             "#7201a8"
            ],
            [
             0.3333333333333333,
             "#9c179e"
            ],
            [
             0.4444444444444444,
             "#bd3786"
            ],
            [
             0.5555555555555556,
             "#d8576b"
            ],
            [
             0.6666666666666666,
             "#ed7953"
            ],
            [
             0.7777777777777778,
             "#fb9f3a"
            ],
            [
             0.8888888888888888,
             "#fdca26"
            ],
            [
             1,
             "#f0f921"
            ]
           ]
          },
          "colorway": [
           "#636efa",
           "#EF553B",
           "#00cc96",
           "#ab63fa",
           "#FFA15A",
           "#19d3f3",
           "#FF6692",
           "#B6E880",
           "#FF97FF",
           "#FECB52"
          ],
          "font": {
           "color": "#2a3f5f"
          },
          "geo": {
           "bgcolor": "white",
           "lakecolor": "white",
           "landcolor": "#E5ECF6",
           "showlakes": true,
           "showland": true,
           "subunitcolor": "white"
          },
          "hoverlabel": {
           "align": "left"
          },
          "hovermode": "closest",
          "mapbox": {
           "style": "light"
          },
          "paper_bgcolor": "white",
          "plot_bgcolor": "#E5ECF6",
          "polar": {
           "angularaxis": {
            "gridcolor": "white",
            "linecolor": "white",
            "ticks": ""
           },
           "bgcolor": "#E5ECF6",
           "radialaxis": {
            "gridcolor": "white",
            "linecolor": "white",
            "ticks": ""
           }
          },
          "scene": {
           "xaxis": {
            "backgroundcolor": "#E5ECF6",
            "gridcolor": "white",
            "gridwidth": 2,
            "linecolor": "white",
            "showbackground": true,
            "ticks": "",
            "zerolinecolor": "white"
           },
           "yaxis": {
            "backgroundcolor": "#E5ECF6",
            "gridcolor": "white",
            "gridwidth": 2,
            "linecolor": "white",
            "showbackground": true,
            "ticks": "",
            "zerolinecolor": "white"
           },
           "zaxis": {
            "backgroundcolor": "#E5ECF6",
            "gridcolor": "white",
            "gridwidth": 2,
            "linecolor": "white",
            "showbackground": true,
            "ticks": "",
            "zerolinecolor": "white"
           }
          },
          "shapedefaults": {
           "line": {
            "color": "#2a3f5f"
           }
          },
          "ternary": {
           "aaxis": {
            "gridcolor": "white",
            "linecolor": "white",
            "ticks": ""
           },
           "baxis": {
            "gridcolor": "white",
            "linecolor": "white",
            "ticks": ""
           },
           "bgcolor": "#E5ECF6",
           "caxis": {
            "gridcolor": "white",
            "linecolor": "white",
            "ticks": ""
           }
          },
          "title": {
           "x": 0.05
          },
          "xaxis": {
           "automargin": true,
           "gridcolor": "white",
           "linecolor": "white",
           "ticks": "",
           "title": {
            "standoff": 15
           },
           "zerolinecolor": "white",
           "zerolinewidth": 2
          },
          "yaxis": {
           "automargin": true,
           "gridcolor": "white",
           "linecolor": "white",
           "ticks": "",
           "title": {
            "standoff": 15
           },
           "zerolinecolor": "white",
           "zerolinewidth": 2
          }
         }
        },
        "title": {
         "text": "Average Sentence Length per Difficulty"
        },
        "xaxis": {
         "anchor": "y",
         "categoryarray": [
          "A1",
          "A2",
          "B1",
          "B2",
          "C1",
          "C2"
         ],
         "categoryorder": "array",
         "domain": [
          0,
          1
         ],
         "title": {
          "text": "difficulty"
         }
        },
        "yaxis": {
         "anchor": "x",
         "domain": [
          0,
          1
         ],
         "title": {
          "text": "avg_len"
         }
        }
       }
      }
     },
     "metadata": {},
     "output_type": "display_data"
    }
   ],
   "source": [
    "# Creating a bar plot to visualize average sentence length by difficulty level\n",
    "fig = px.bar(data_grouped.reset_index(), x=\"difficulty\", y=\"avg_len\", color=\"difficulty\", title=\"Average Sentence Length per Difficulty\")\n",
    "fig.show()\n"
   ]
  },
  {
   "cell_type": "code",
   "execution_count": 140,
   "metadata": {},
   "outputs": [],
   "source": [
    "# split data into train and test\n",
    "from sklearn.model_selection import train_test_split\n",
    "\n",
    "train, test = train_test_split(data, test_size=0.2, random_state=42)"
   ]
  },
  {
   "cell_type": "code",
   "execution_count": 141,
   "metadata": {},
   "outputs": [
    {
     "data": {
      "text/html": [
       "<div>\n",
       "<style scoped>\n",
       "    .dataframe tbody tr th:only-of-type {\n",
       "        vertical-align: middle;\n",
       "    }\n",
       "\n",
       "    .dataframe tbody tr th {\n",
       "        vertical-align: top;\n",
       "    }\n",
       "\n",
       "    .dataframe thead th {\n",
       "        text-align: right;\n",
       "    }\n",
       "</style>\n",
       "<table border=\"1\" class=\"dataframe\">\n",
       "  <thead>\n",
       "    <tr style=\"text-align: right;\">\n",
       "      <th></th>\n",
       "      <th>id</th>\n",
       "      <th>sentence</th>\n",
       "      <th>difficulty</th>\n",
       "    </tr>\n",
       "  </thead>\n",
       "  <tbody>\n",
       "    <tr>\n",
       "      <th>2758</th>\n",
       "      <td>2758</td>\n",
       "      <td>On n'en sort pas, et moi, j'en ai marre.</td>\n",
       "      <td>A2</td>\n",
       "    </tr>\n",
       "    <tr>\n",
       "      <th>2850</th>\n",
       "      <td>2850</td>\n",
       "      <td>Il y avait deux enfants de 14 et 11 ans.</td>\n",
       "      <td>A2</td>\n",
       "    </tr>\n",
       "    <tr>\n",
       "      <th>4440</th>\n",
       "      <td>4440</td>\n",
       "      <td>Son appartement est loin de l'Université.</td>\n",
       "      <td>A1</td>\n",
       "    </tr>\n",
       "    <tr>\n",
       "      <th>4576</th>\n",
       "      <td>4576</td>\n",
       "      <td>Les négociateurs du Congrès de Vienne établire...</td>\n",
       "      <td>C2</td>\n",
       "    </tr>\n",
       "    <tr>\n",
       "      <th>1774</th>\n",
       "      <td>1774</td>\n",
       "      <td>Je ne trouve pas le livre que tu cherches.</td>\n",
       "      <td>A1</td>\n",
       "    </tr>\n",
       "    <tr>\n",
       "      <th>...</th>\n",
       "      <td>...</td>\n",
       "      <td>...</td>\n",
       "      <td>...</td>\n",
       "    </tr>\n",
       "    <tr>\n",
       "      <th>4426</th>\n",
       "      <td>4426</td>\n",
       "      <td>C'est très gentil de sa part !</td>\n",
       "      <td>A2</td>\n",
       "    </tr>\n",
       "    <tr>\n",
       "      <th>466</th>\n",
       "      <td>466</td>\n",
       "      <td>Alexandre aimait réviser à l'université pour f...</td>\n",
       "      <td>B1</td>\n",
       "    </tr>\n",
       "    <tr>\n",
       "      <th>3092</th>\n",
       "      <td>3092</td>\n",
       "      <td>Socrate incarne, en effet, le sage qui sait di...</td>\n",
       "      <td>C2</td>\n",
       "    </tr>\n",
       "    <tr>\n",
       "      <th>3772</th>\n",
       "      <td>3772</td>\n",
       "      <td>Nous sommes en vacances chez des amis.</td>\n",
       "      <td>A1</td>\n",
       "    </tr>\n",
       "    <tr>\n",
       "      <th>860</th>\n",
       "      <td>860</td>\n",
       "      <td>Tu était déjà allé voir cette pièce de théâtre ?</td>\n",
       "      <td>A2</td>\n",
       "    </tr>\n",
       "  </tbody>\n",
       "</table>\n",
       "<p>3840 rows × 3 columns</p>\n",
       "</div>"
      ],
      "text/plain": [
       "        id                                           sentence difficulty\n",
       "2758  2758           On n'en sort pas, et moi, j'en ai marre.         A2\n",
       "2850  2850           Il y avait deux enfants de 14 et 11 ans.         A2\n",
       "4440  4440          Son appartement est loin de l'Université.         A1\n",
       "4576  4576  Les négociateurs du Congrès de Vienne établire...         C2\n",
       "1774  1774         Je ne trouve pas le livre que tu cherches.         A1\n",
       "...    ...                                                ...        ...\n",
       "4426  4426                     C'est très gentil de sa part !         A2\n",
       "466    466  Alexandre aimait réviser à l'université pour f...         B1\n",
       "3092  3092  Socrate incarne, en effet, le sage qui sait di...         C2\n",
       "3772  3772             Nous sommes en vacances chez des amis.         A1\n",
       "860    860   Tu était déjà allé voir cette pièce de théâtre ?         A2\n",
       "\n",
       "[3840 rows x 3 columns]"
      ]
     },
     "execution_count": 141,
     "metadata": {},
     "output_type": "execute_result"
    }
   ],
   "source": [
    "# Displaying the first few rows of the training set\n",
    "train"
   ]
  },
  {
   "cell_type": "markdown",
   "metadata": {},
   "source": [
    "## Logistic regression with TF - IDF"
   ]
  },
  {
   "cell_type": "markdown",
   "metadata": {},
   "source": [
    "####  without hyper parameter tuning"
   ]
  },
  {
   "cell_type": "code",
   "execution_count": 142,
   "metadata": {},
   "outputs": [
    {
     "name": "stdout",
     "output_type": "stream",
     "text": [
      "0.4510416666666667\n",
      "              precision    recall  f1-score   support\n",
      "\n",
      "          A1       0.52      0.64      0.57       166\n",
      "          A2       0.35      0.32      0.33       158\n",
      "          B1       0.39      0.30      0.34       166\n",
      "          B2       0.47      0.38      0.42       153\n",
      "          C1       0.44      0.43      0.43       152\n",
      "          C2       0.49      0.62      0.55       165\n",
      "\n",
      "    accuracy                           0.45       960\n",
      "   macro avg       0.44      0.45      0.44       960\n",
      "weighted avg       0.44      0.45      0.44       960\n",
      "\n"
     ]
    }
   ],
   "source": [
    "# Setting up TF-IDF and Logistic Regression pipeline\n",
    "tfidf = TfidfVectorizer()\n",
    "logreg = LogisticRegression()\n",
    "\n",
    "pipe = Pipeline([('tfidf', tfidf), ('logreg', logreg)])\n",
    "\n",
    "# Training the model\n",
    "pipe.fit(train['sentence'], train['difficulty'])\n",
    "\n",
    "# Making predictions and evaluating the model\n",
    "preds = pipe.predict(test['sentence'])\n",
    "print(accuracy_score(test['difficulty'], preds))\n",
    "print(classification_report(test['difficulty'], preds))\n"
   ]
  },
  {
   "cell_type": "markdown",
   "metadata": {},
   "source": [
    "#### with hyper parameter tuning"
   ]
  },
  {
   "cell_type": "code",
   "execution_count": 156,
   "metadata": {},
   "outputs": [
    {
     "name": "stdout",
     "output_type": "stream",
     "text": [
      "Test Accuracy:  0.4510416666666667\n",
      "Accuracy Score:  0.4510416666666667\n",
      "Classification Report:\n",
      "               precision    recall  f1-score   support\n",
      "\n",
      "          A1       0.52      0.64      0.57       166\n",
      "          A2       0.35      0.32      0.33       158\n",
      "          B1       0.39      0.30      0.34       166\n",
      "          B2       0.47      0.38      0.42       153\n",
      "          C1       0.44      0.43      0.43       152\n",
      "          C2       0.49      0.62      0.55       165\n",
      "\n",
      "    accuracy                           0.45       960\n",
      "   macro avg       0.44      0.45      0.44       960\n",
      "weighted avg       0.44      0.45      0.44       960\n",
      "\n"
     ]
    }
   ],
   "source": [
    "# Setting up TF-IDF and Logistic Regression within a pipeline\n",
    "tfidf = TfidfVectorizer()\n",
    "lr = LogisticRegression()\n",
    "pipe = Pipeline([('tfidf', tfidf), ('lr', lr)])\n",
    "\n",
    "# Defining a grid of parameters to tune\n",
    "param_grid = {\n",
    "    'tfidf__max_df': [0.5, 1.0],  \n",
    "    'tfidf__min_df': [1, 3],      \n",
    "    'tfidf__ngram_range': [(1, 1), (1, 2)],  \n",
    "    'lr__C': [0.1, 1, 10],  \n",
    "}\n",
    "# Setting up GridSearchCV for hyperparameter tuning\n",
    "grid = GridSearchCV(pipe, param_grid, cv=3, n_jobs=-1)  \n",
    "grid.fit(train['sentence'], train['difficulty'])\n",
    "\n",
    "# Displaying the best parameters and model performance\n",
    "print(\"Best Parameters: \", grid.best_params_)\n",
    "print(\"Best Cross-Validation Score: \", grid.best_score_)\n",
    "print(\"Best Estimator: \", grid.best_estimator_)\n",
    "\n",
    "# Evaluating the model on the test set\n",
    "test_accuracy = grid.score(test['sentence'], test['difficulty'])\n",
    "print(\"Test Accuracy: \", test_accuracy)\n",
    "\n",
    "# Making predictions and evaluating accuracy\n",
    "preds = grid.predict(test['sentence'])\n",
    "print(\"Accuracy Score: \", accuracy_score(test['difficulty'], preds))\n",
    "print(\"Classification Report:\\n\", classification_report(test['difficulty'], preds))"
   ]
  },
  {
   "cell_type": "markdown",
   "metadata": {},
   "source": [
    "# Logistic Regression with Bag-of-Words"
   ]
  },
  {
   "cell_type": "markdown",
   "metadata": {},
   "source": [
    "#### without hyper parameter tuning"
   ]
  },
  {
   "cell_type": "code",
   "execution_count": 144,
   "metadata": {},
   "outputs": [
    {
     "name": "stdout",
     "output_type": "stream",
     "text": [
      "0.475\n",
      "              precision    recall  f1-score   support\n",
      "\n",
      "          A1       0.53      0.74      0.61       166\n",
      "          A2       0.38      0.44      0.41       158\n",
      "          B1       0.42      0.34      0.37       166\n",
      "          B2       0.50      0.42      0.46       153\n",
      "          C1       0.48      0.44      0.46       152\n",
      "          C2       0.55      0.47      0.50       165\n",
      "\n",
      "    accuracy                           0.48       960\n",
      "   macro avg       0.47      0.47      0.47       960\n",
      "weighted avg       0.47      0.47      0.47       960\n",
      "\n"
     ]
    }
   ],
   "source": [
    "# Creating a pipeline with Bag of Words and Logistic Regression\n",
    "bow = CountVectorizer()\n",
    "logreg = LogisticRegression()\n",
    "pipe = Pipeline([('bow', bow), ('logreg', logreg)])\n",
    "\n",
    "# Training the model with the training data\n",
    "pipe.fit(train['sentence'], train['difficulty'])\n",
    "\n",
    "# Predicting and evaluating on the test data\n",
    "preds = pipe.predict(test['sentence'])\n",
    "print(accuracy_score(test['difficulty'], preds))\n",
    "print(classification_report(test['difficulty'], preds))\n"
   ]
  },
  {
   "cell_type": "markdown",
   "metadata": {},
   "source": [
    "#### with hyper parameter tuning"
   ]
  },
  {
   "cell_type": "code",
   "execution_count": 158,
   "metadata": {},
   "outputs": [
    {
     "name": "stdout",
     "output_type": "stream",
     "text": [
      "Best Parameters:  {'bow__max_df': 0.5, 'bow__min_df': 1, 'bow__ngram_range': (1, 1), 'lr__C': 1}\n",
      "Best Cross-Validation Score:  0.43515624999999997\n",
      "Best Estimator:  Pipeline(steps=[('bow', CountVectorizer(max_df=0.5)),\n",
      "                ('lr', LogisticRegression(C=1))])\n",
      "Test Accuracy:  0.475\n",
      "Accuracy Score:  0.475\n",
      "Classification Report:\n",
      "               precision    recall  f1-score   support\n",
      "\n",
      "          A1       0.53      0.74      0.61       166\n",
      "          A2       0.38      0.44      0.41       158\n",
      "          B1       0.42      0.34      0.37       166\n",
      "          B2       0.50      0.42      0.46       153\n",
      "          C1       0.48      0.44      0.46       152\n",
      "          C2       0.55      0.47      0.50       165\n",
      "\n",
      "    accuracy                           0.48       960\n",
      "   macro avg       0.47      0.47      0.47       960\n",
      "weighted avg       0.47      0.47      0.47       960\n",
      "\n"
     ]
    }
   ],
   "source": [
    "# Setting up Bag of Words and Logistic Regression in a pipeline\n",
    "bow = CountVectorizer()\n",
    "lr = LogisticRegression()\n",
    "\n",
    "pipe = Pipeline([('bow', bow), ('lr', lr)])\n",
    "\n",
    "# Defining parameters for tuning\n",
    "param_grid = {\n",
    "    'bow__max_df': [0.5, 1.0],\n",
    "    'bow__min_df': [1, 2, 3],\n",
    "    'bow__ngram_range': [(1, 1), (1, 2)],\n",
    "    'lr__C': [ 0.1, 1, 10],\n",
    "\n",
    "}\n",
    "\n",
    "# Using GridSearchCV for finding the best model parameters\n",
    "grid = GridSearchCV(pipe, param_grid, cv=3, n_jobs=-1)\n",
    "grid.fit(train['sentence'], train['difficulty'])\n",
    "\n",
    "# Displaying best parameters and model performance\n",
    "print(\"Best Parameters: \", grid.best_params_)\n",
    "print(\"Best Cross-Validation Score: \", grid.best_score_)\n",
    "print(\"Best Estimator: \", grid.best_estimator_)\n",
    "\n",
    "# Evaluating the model on the test data\n",
    "test_accuracy = grid.score(test['sentence'], test['difficulty'])\n",
    "print(\"Test Accuracy: \", test_accuracy)\n",
    "\n",
    "# Predicting and evaluating model performance\n",
    "preds = grid.predict(test['sentence'])\n",
    "print(\"Accuracy Score: \", accuracy_score(test['difficulty'], preds))\n",
    "print(\"Classification Report:\\n\", classification_report(test['difficulty'], preds))\n"
   ]
  },
  {
   "cell_type": "markdown",
   "metadata": {},
   "source": [
    "### We see that bag of words gives better results which makes sense as we have a small dataset and tfidf is better for large datasets\n",
    "### We will thus use bag of words for the next models"
   ]
  },
  {
   "cell_type": "markdown",
   "metadata": {},
   "source": [
    "# KNN"
   ]
  },
  {
   "cell_type": "markdown",
   "metadata": {},
   "source": [
    "#### without hypr parameter tuning"
   ]
  },
  {
   "cell_type": "code",
   "execution_count": 146,
   "metadata": {},
   "outputs": [
    {
     "name": "stdout",
     "output_type": "stream",
     "text": [
      "0.2\n",
      "              precision    recall  f1-score   support\n",
      "\n",
      "          A1       0.21      0.96      0.35       166\n",
      "          A2       0.10      0.08      0.09       158\n",
      "          B1       0.18      0.05      0.08       166\n",
      "          B2       0.22      0.03      0.05       153\n",
      "          C1       0.14      0.01      0.01       152\n",
      "          C2       0.86      0.04      0.07       165\n",
      "\n",
      "    accuracy                           0.20       960\n",
      "   macro avg       0.29      0.19      0.11       960\n",
      "weighted avg       0.29      0.20      0.11       960\n",
      "\n"
     ]
    }
   ],
   "source": [
    "# Creating a pipeline with Bag of Words and K-Nearest Neighbors\n",
    "bow = CountVectorizer()\n",
    "knn = KNeighborsClassifier()\n",
    "\n",
    "pipe = Pipeline([('bow', bow), ('knn', knn)])\n",
    "\n",
    "# Training the pipeline model on the training set\n",
    "pipe.fit(train['sentence'], train['difficulty'])\n",
    "\n",
    "# Making predictions on the test set and evaluating the model\n",
    "preds = pipe.predict(test['sentence'])\n",
    "print(accuracy_score(test['difficulty'], preds))\n",
    "print(classification_report(test['difficulty'], preds))\n"
   ]
  },
  {
   "cell_type": "markdown",
   "metadata": {},
   "source": [
    "#### with hyper parameter tuning"
   ]
  },
  {
   "cell_type": "code",
   "execution_count": 147,
   "metadata": {},
   "outputs": [
    {
     "name": "stdout",
     "output_type": "stream",
     "text": [
      "Accuracy for k=1: 0.24583333333333332\n",
      "Accuracy for k=2: 0.20520833333333333\n",
      "Accuracy for k=3: 0.20520833333333333\n",
      "Accuracy for k=4: 0.21458333333333332\n",
      "Accuracy for k=5: 0.2\n",
      "Accuracy for k=6: 0.196875\n",
      "Accuracy for k=7: 0.18854166666666666\n",
      "Accuracy for k=8: 0.19166666666666668\n",
      "Accuracy for k=9: 0.184375\n",
      "Accuracy for k=10: 0.18645833333333334\n",
      "Accuracy for k=11: 0.18125\n",
      "Accuracy for k=12: 0.184375\n",
      "Accuracy for k=13: 0.18541666666666667\n",
      "Accuracy for k=14: 0.1875\n",
      "Accuracy for k=15: 0.18541666666666667\n",
      "Accuracy for k=16: 0.18958333333333333\n",
      "Accuracy for k=17: 0.18854166666666666\n",
      "Accuracy for k=18: 0.18645833333333334\n",
      "Accuracy for k=19: 0.18333333333333332\n",
      "Accuracy for k=20: 0.18541666666666667\n"
     ]
    },
    {
     "data": {
      "application/vnd.plotly.v1+json": {
       "config": {
        "plotlyServerURL": "https://plot.ly"
       },
       "data": [
        {
         "mode": "lines+markers",
         "type": "scatter",
         "x": [
          1,
          2,
          3,
          4,
          5,
          6,
          7,
          8,
          9,
          10,
          11,
          12,
          13,
          14,
          15,
          16,
          17,
          18,
          19,
          20
         ],
         "y": [
          0.24583333333333332,
          0.20520833333333333,
          0.20520833333333333,
          0.21458333333333332,
          0.2,
          0.196875,
          0.18854166666666666,
          0.19166666666666668,
          0.184375,
          0.18645833333333334,
          0.18125,
          0.184375,
          0.18541666666666667,
          0.1875,
          0.18541666666666667,
          0.18958333333333333,
          0.18854166666666666,
          0.18645833333333334,
          0.18333333333333332,
          0.18541666666666667
         ]
        }
       ],
       "layout": {
        "plot_bgcolor": "white",
        "template": {
         "data": {
          "bar": [
           {
            "error_x": {
             "color": "#2a3f5f"
            },
            "error_y": {
             "color": "#2a3f5f"
            },
            "marker": {
             "line": {
              "color": "#E5ECF6",
              "width": 0.5
             },
             "pattern": {
              "fillmode": "overlay",
              "size": 10,
              "solidity": 0.2
             }
            },
            "type": "bar"
           }
          ],
          "barpolar": [
           {
            "marker": {
             "line": {
              "color": "#E5ECF6",
              "width": 0.5
             },
             "pattern": {
              "fillmode": "overlay",
              "size": 10,
              "solidity": 0.2
             }
            },
            "type": "barpolar"
           }
          ],
          "carpet": [
           {
            "aaxis": {
             "endlinecolor": "#2a3f5f",
             "gridcolor": "white",
             "linecolor": "white",
             "minorgridcolor": "white",
             "startlinecolor": "#2a3f5f"
            },
            "baxis": {
             "endlinecolor": "#2a3f5f",
             "gridcolor": "white",
             "linecolor": "white",
             "minorgridcolor": "white",
             "startlinecolor": "#2a3f5f"
            },
            "type": "carpet"
           }
          ],
          "choropleth": [
           {
            "colorbar": {
             "outlinewidth": 0,
             "ticks": ""
            },
            "type": "choropleth"
           }
          ],
          "contour": [
           {
            "colorbar": {
             "outlinewidth": 0,
             "ticks": ""
            },
            "colorscale": [
             [
              0,
              "#0d0887"
             ],
             [
              0.1111111111111111,
              "#46039f"
             ],
             [
              0.2222222222222222,
              "#7201a8"
             ],
             [
              0.3333333333333333,
              "#9c179e"
             ],
             [
              0.4444444444444444,
              "#bd3786"
             ],
             [
              0.5555555555555556,
              "#d8576b"
             ],
             [
              0.6666666666666666,
              "#ed7953"
             ],
             [
              0.7777777777777778,
              "#fb9f3a"
             ],
             [
              0.8888888888888888,
              "#fdca26"
             ],
             [
              1,
              "#f0f921"
             ]
            ],
            "type": "contour"
           }
          ],
          "contourcarpet": [
           {
            "colorbar": {
             "outlinewidth": 0,
             "ticks": ""
            },
            "type": "contourcarpet"
           }
          ],
          "heatmap": [
           {
            "colorbar": {
             "outlinewidth": 0,
             "ticks": ""
            },
            "colorscale": [
             [
              0,
              "#0d0887"
             ],
             [
              0.1111111111111111,
              "#46039f"
             ],
             [
              0.2222222222222222,
              "#7201a8"
             ],
             [
              0.3333333333333333,
              "#9c179e"
             ],
             [
              0.4444444444444444,
              "#bd3786"
             ],
             [
              0.5555555555555556,
              "#d8576b"
             ],
             [
              0.6666666666666666,
              "#ed7953"
             ],
             [
              0.7777777777777778,
              "#fb9f3a"
             ],
             [
              0.8888888888888888,
              "#fdca26"
             ],
             [
              1,
              "#f0f921"
             ]
            ],
            "type": "heatmap"
           }
          ],
          "heatmapgl": [
           {
            "colorbar": {
             "outlinewidth": 0,
             "ticks": ""
            },
            "colorscale": [
             [
              0,
              "#0d0887"
             ],
             [
              0.1111111111111111,
              "#46039f"
             ],
             [
              0.2222222222222222,
              "#7201a8"
             ],
             [
              0.3333333333333333,
              "#9c179e"
             ],
             [
              0.4444444444444444,
              "#bd3786"
             ],
             [
              0.5555555555555556,
              "#d8576b"
             ],
             [
              0.6666666666666666,
              "#ed7953"
             ],
             [
              0.7777777777777778,
              "#fb9f3a"
             ],
             [
              0.8888888888888888,
              "#fdca26"
             ],
             [
              1,
              "#f0f921"
             ]
            ],
            "type": "heatmapgl"
           }
          ],
          "histogram": [
           {
            "marker": {
             "pattern": {
              "fillmode": "overlay",
              "size": 10,
              "solidity": 0.2
             }
            },
            "type": "histogram"
           }
          ],
          "histogram2d": [
           {
            "colorbar": {
             "outlinewidth": 0,
             "ticks": ""
            },
            "colorscale": [
             [
              0,
              "#0d0887"
             ],
             [
              0.1111111111111111,
              "#46039f"
             ],
             [
              0.2222222222222222,
              "#7201a8"
             ],
             [
              0.3333333333333333,
              "#9c179e"
             ],
             [
              0.4444444444444444,
              "#bd3786"
             ],
             [
              0.5555555555555556,
              "#d8576b"
             ],
             [
              0.6666666666666666,
              "#ed7953"
             ],
             [
              0.7777777777777778,
              "#fb9f3a"
             ],
             [
              0.8888888888888888,
              "#fdca26"
             ],
             [
              1,
              "#f0f921"
             ]
            ],
            "type": "histogram2d"
           }
          ],
          "histogram2dcontour": [
           {
            "colorbar": {
             "outlinewidth": 0,
             "ticks": ""
            },
            "colorscale": [
             [
              0,
              "#0d0887"
             ],
             [
              0.1111111111111111,
              "#46039f"
             ],
             [
              0.2222222222222222,
              "#7201a8"
             ],
             [
              0.3333333333333333,
              "#9c179e"
             ],
             [
              0.4444444444444444,
              "#bd3786"
             ],
             [
              0.5555555555555556,
              "#d8576b"
             ],
             [
              0.6666666666666666,
              "#ed7953"
             ],
             [
              0.7777777777777778,
              "#fb9f3a"
             ],
             [
              0.8888888888888888,
              "#fdca26"
             ],
             [
              1,
              "#f0f921"
             ]
            ],
            "type": "histogram2dcontour"
           }
          ],
          "mesh3d": [
           {
            "colorbar": {
             "outlinewidth": 0,
             "ticks": ""
            },
            "type": "mesh3d"
           }
          ],
          "parcoords": [
           {
            "line": {
             "colorbar": {
              "outlinewidth": 0,
              "ticks": ""
             }
            },
            "type": "parcoords"
           }
          ],
          "pie": [
           {
            "automargin": true,
            "type": "pie"
           }
          ],
          "scatter": [
           {
            "marker": {
             "colorbar": {
              "outlinewidth": 0,
              "ticks": ""
             }
            },
            "type": "scatter"
           }
          ],
          "scatter3d": [
           {
            "line": {
             "colorbar": {
              "outlinewidth": 0,
              "ticks": ""
             }
            },
            "marker": {
             "colorbar": {
              "outlinewidth": 0,
              "ticks": ""
             }
            },
            "type": "scatter3d"
           }
          ],
          "scattercarpet": [
           {
            "marker": {
             "colorbar": {
              "outlinewidth": 0,
              "ticks": ""
             }
            },
            "type": "scattercarpet"
           }
          ],
          "scattergeo": [
           {
            "marker": {
             "colorbar": {
              "outlinewidth": 0,
              "ticks": ""
             }
            },
            "type": "scattergeo"
           }
          ],
          "scattergl": [
           {
            "marker": {
             "colorbar": {
              "outlinewidth": 0,
              "ticks": ""
             }
            },
            "type": "scattergl"
           }
          ],
          "scattermapbox": [
           {
            "marker": {
             "colorbar": {
              "outlinewidth": 0,
              "ticks": ""
             }
            },
            "type": "scattermapbox"
           }
          ],
          "scatterpolar": [
           {
            "marker": {
             "colorbar": {
              "outlinewidth": 0,
              "ticks": ""
             }
            },
            "type": "scatterpolar"
           }
          ],
          "scatterpolargl": [
           {
            "marker": {
             "colorbar": {
              "outlinewidth": 0,
              "ticks": ""
             }
            },
            "type": "scatterpolargl"
           }
          ],
          "scatterternary": [
           {
            "marker": {
             "colorbar": {
              "outlinewidth": 0,
              "ticks": ""
             }
            },
            "type": "scatterternary"
           }
          ],
          "surface": [
           {
            "colorbar": {
             "outlinewidth": 0,
             "ticks": ""
            },
            "colorscale": [
             [
              0,
              "#0d0887"
             ],
             [
              0.1111111111111111,
              "#46039f"
             ],
             [
              0.2222222222222222,
              "#7201a8"
             ],
             [
              0.3333333333333333,
              "#9c179e"
             ],
             [
              0.4444444444444444,
              "#bd3786"
             ],
             [
              0.5555555555555556,
              "#d8576b"
             ],
             [
              0.6666666666666666,
              "#ed7953"
             ],
             [
              0.7777777777777778,
              "#fb9f3a"
             ],
             [
              0.8888888888888888,
              "#fdca26"
             ],
             [
              1,
              "#f0f921"
             ]
            ],
            "type": "surface"
           }
          ],
          "table": [
           {
            "cells": {
             "fill": {
              "color": "#EBF0F8"
             },
             "line": {
              "color": "white"
             }
            },
            "header": {
             "fill": {
              "color": "#C8D4E3"
             },
             "line": {
              "color": "white"
             }
            },
            "type": "table"
           }
          ]
         },
         "layout": {
          "annotationdefaults": {
           "arrowcolor": "#2a3f5f",
           "arrowhead": 0,
           "arrowwidth": 1
          },
          "autotypenumbers": "strict",
          "coloraxis": {
           "colorbar": {
            "outlinewidth": 0,
            "ticks": ""
           }
          },
          "colorscale": {
           "diverging": [
            [
             0,
             "#8e0152"
            ],
            [
             0.1,
             "#c51b7d"
            ],
            [
             0.2,
             "#de77ae"
            ],
            [
             0.3,
             "#f1b6da"
            ],
            [
             0.4,
             "#fde0ef"
            ],
            [
             0.5,
             "#f7f7f7"
            ],
            [
             0.6,
             "#e6f5d0"
            ],
            [
             0.7,
             "#b8e186"
            ],
            [
             0.8,
             "#7fbc41"
            ],
            [
             0.9,
             "#4d9221"
            ],
            [
             1,
             "#276419"
            ]
           ],
           "sequential": [
            [
             0,
             "#0d0887"
            ],
            [
             0.1111111111111111,
             "#46039f"
            ],
            [
             0.2222222222222222,
             "#7201a8"
            ],
            [
             0.3333333333333333,
             "#9c179e"
            ],
            [
             0.4444444444444444,
             "#bd3786"
            ],
            [
             0.5555555555555556,
             "#d8576b"
            ],
            [
             0.6666666666666666,
             "#ed7953"
            ],
            [
             0.7777777777777778,
             "#fb9f3a"
            ],
            [
             0.8888888888888888,
             "#fdca26"
            ],
            [
             1,
             "#f0f921"
            ]
           ],
           "sequentialminus": [
            [
             0,
             "#0d0887"
            ],
            [
             0.1111111111111111,
             "#46039f"
            ],
            [
             0.2222222222222222,
             "#7201a8"
            ],
            [
             0.3333333333333333,
             "#9c179e"
            ],
            [
             0.4444444444444444,
             "#bd3786"
            ],
            [
             0.5555555555555556,
             "#d8576b"
            ],
            [
             0.6666666666666666,
             "#ed7953"
            ],
            [
             0.7777777777777778,
             "#fb9f3a"
            ],
            [
             0.8888888888888888,
             "#fdca26"
            ],
            [
             1,
             "#f0f921"
            ]
           ]
          },
          "colorway": [
           "#636efa",
           "#EF553B",
           "#00cc96",
           "#ab63fa",
           "#FFA15A",
           "#19d3f3",
           "#FF6692",
           "#B6E880",
           "#FF97FF",
           "#FECB52"
          ],
          "font": {
           "color": "#2a3f5f"
          },
          "geo": {
           "bgcolor": "white",
           "lakecolor": "white",
           "landcolor": "#E5ECF6",
           "showlakes": true,
           "showland": true,
           "subunitcolor": "white"
          },
          "hoverlabel": {
           "align": "left"
          },
          "hovermode": "closest",
          "mapbox": {
           "style": "light"
          },
          "paper_bgcolor": "white",
          "plot_bgcolor": "#E5ECF6",
          "polar": {
           "angularaxis": {
            "gridcolor": "white",
            "linecolor": "white",
            "ticks": ""
           },
           "bgcolor": "#E5ECF6",
           "radialaxis": {
            "gridcolor": "white",
            "linecolor": "white",
            "ticks": ""
           }
          },
          "scene": {
           "xaxis": {
            "backgroundcolor": "#E5ECF6",
            "gridcolor": "white",
            "gridwidth": 2,
            "linecolor": "white",
            "showbackground": true,
            "ticks": "",
            "zerolinecolor": "white"
           },
           "yaxis": {
            "backgroundcolor": "#E5ECF6",
            "gridcolor": "white",
            "gridwidth": 2,
            "linecolor": "white",
            "showbackground": true,
            "ticks": "",
            "zerolinecolor": "white"
           },
           "zaxis": {
            "backgroundcolor": "#E5ECF6",
            "gridcolor": "white",
            "gridwidth": 2,
            "linecolor": "white",
            "showbackground": true,
            "ticks": "",
            "zerolinecolor": "white"
           }
          },
          "shapedefaults": {
           "line": {
            "color": "#2a3f5f"
           }
          },
          "ternary": {
           "aaxis": {
            "gridcolor": "white",
            "linecolor": "white",
            "ticks": ""
           },
           "baxis": {
            "gridcolor": "white",
            "linecolor": "white",
            "ticks": ""
           },
           "bgcolor": "#E5ECF6",
           "caxis": {
            "gridcolor": "white",
            "linecolor": "white",
            "ticks": ""
           }
          },
          "title": {
           "x": 0.05
          },
          "xaxis": {
           "automargin": true,
           "gridcolor": "white",
           "linecolor": "white",
           "ticks": "",
           "title": {
            "standoff": 15
           },
           "zerolinecolor": "white",
           "zerolinewidth": 2
          },
          "yaxis": {
           "automargin": true,
           "gridcolor": "white",
           "linecolor": "white",
           "ticks": "",
           "title": {
            "standoff": 15
           },
           "zerolinecolor": "white",
           "zerolinewidth": 2
          }
         }
        },
        "title": {
         "text": "KNN Accuracy over different values of k"
        },
        "xaxis": {
         "title": {
          "text": "k"
         }
        },
        "yaxis": {
         "title": {
          "text": "Accuracy"
         }
        }
       }
      }
     },
     "metadata": {},
     "output_type": "display_data"
    }
   ],
   "source": [
    "# Setting up the Bag of Words model\n",
    "bow = CountVectorizer()\n",
    "\n",
    "# Testing different values of k for K-Nearest Neighbors\n",
    "k_values = range(1, 21)  \n",
    "accuracies = []\n",
    "\n",
    "for k in k_values:\n",
    "    knn = KNeighborsClassifier(n_neighbors=k)\n",
    "    pipe = Pipeline([('bow', bow), ('knn', knn)])\n",
    "    \n",
    "    pipe.fit(train['sentence'], train['difficulty'])\n",
    "    preds = pipe.predict(test['sentence'])\n",
    "    \n",
    "    accuracy = accuracy_score(test['difficulty'], preds)\n",
    "    accuracies.append(accuracy)\n",
    "    print(f\"Accuracy for k={k}: {accuracy}\")\n",
    "\n",
    "# Plotting the accuracy for each k value\n",
    "fig = go.Figure(data=go.Scatter(x=list(k_values), y=accuracies, mode='lines+markers'))\n",
    "fig.update_layout(title='KNN Accuracy over different values of k',\n",
    "                  xaxis_title='k',\n",
    "                  yaxis_title='Accuracy',\n",
    "                  plot_bgcolor='white')\n",
    "fig.show()\n",
    "\n"
   ]
  },
  {
   "cell_type": "code",
   "execution_count": 148,
   "metadata": {},
   "outputs": [
    {
     "name": "stdout",
     "output_type": "stream",
     "text": [
      "Accuracy for k=1: 0.24583333333333332\n",
      "              precision    recall  f1-score   support\n",
      "\n",
      "          A1       0.24      0.77      0.37       166\n",
      "          A2       0.14      0.14      0.14       158\n",
      "          B1       0.27      0.17      0.21       166\n",
      "          B2       0.36      0.14      0.20       153\n",
      "          C1       0.25      0.12      0.17       152\n",
      "          C2       0.64      0.11      0.19       165\n",
      "\n",
      "    accuracy                           0.25       960\n",
      "   macro avg       0.32      0.24      0.21       960\n",
      "weighted avg       0.32      0.25      0.21       960\n",
      "\n"
     ]
    }
   ],
   "source": [
    "# Initializing the Bag of Words model\n",
    "bow = CountVectorizer()\n",
    "\n",
    "\n",
    "# Setting k to 1 for K-Nearest Neighbors\n",
    "k = 1\n",
    "\n",
    "# Setting up the pipeline\n",
    "knn = KNeighborsClassifier(n_neighbors=k)\n",
    "pipe = Pipeline([('bow', bow), ('knn', knn)])\n",
    "\n",
    "# Training the model\n",
    "pipe.fit(train['sentence'], train['difficulty'])\n",
    "\n",
    "# Making predictions and evaluating the model\n",
    "preds = pipe.predict(test['sentence'])\n",
    "\n",
    "# Calculating and printing the accuracy\n",
    "accuracy = accuracy_score(test['difficulty'], preds)\n",
    "accuracies.append(accuracy)\n",
    "print(f\"Accuracy for k={k}: {accuracy}\")\n",
    "\n",
    "# Printing a detailed classification report\n",
    "print(classification_report(test['difficulty'], preds))"
   ]
  },
  {
   "cell_type": "markdown",
   "metadata": {},
   "source": [
    "# Decision Tree"
   ]
  },
  {
   "cell_type": "markdown",
   "metadata": {},
   "source": [
    "#### without hyper parameter tuning"
   ]
  },
  {
   "cell_type": "code",
   "execution_count": 149,
   "metadata": {},
   "outputs": [
    {
     "name": "stdout",
     "output_type": "stream",
     "text": [
      "0.31979166666666664\n",
      "              precision    recall  f1-score   support\n",
      "\n",
      "          A1       0.46      0.55      0.51       166\n",
      "          A2       0.26      0.26      0.26       158\n",
      "          B1       0.26      0.20      0.22       166\n",
      "          B2       0.24      0.28      0.26       153\n",
      "          C1       0.31      0.37      0.34       152\n",
      "          C2       0.35      0.25      0.29       165\n",
      "\n",
      "    accuracy                           0.32       960\n",
      "   macro avg       0.31      0.32      0.31       960\n",
      "weighted avg       0.32      0.32      0.31       960\n",
      "\n"
     ]
    }
   ],
   "source": [
    "# Setting up the Bag of Words model\n",
    "bow = CountVectorizer()\n",
    "\n",
    "# Initializing the Decision Tree Classifier\n",
    "dt = DecisionTreeClassifier()\n",
    "\n",
    "# Setting up the pipeline\n",
    "pipe = Pipeline([('bow', bow), ('dt', dt)])\n",
    "\n",
    "# Training the model\n",
    "pipe.fit(train['sentence'], train['difficulty'])\n",
    "\n",
    "# Making predictions and evaluating the model\n",
    "preds = pipe.predict(test['sentence'])\n",
    "\n",
    "# Printing the accuracy of the model on the test data\n",
    "print(accuracy_score(test['difficulty'], preds))\n",
    "\n",
    "# Printing a detailed classification report\n",
    "print(classification_report(test['difficulty'], preds))\n",
    "\n"
   ]
  },
  {
   "cell_type": "markdown",
   "metadata": {},
   "source": [
    "#### with hyper parameter tuning"
   ]
  },
  {
   "cell_type": "code",
   "execution_count": 150,
   "metadata": {},
   "outputs": [
    {
     "name": "stdout",
     "output_type": "stream",
     "text": [
      "Accuracy for max_depth=1: 0.25729166666666664\n",
      "Accuracy for max_depth=2: 0.26666666666666666\n",
      "Accuracy for max_depth=3: 0.2864583333333333\n",
      "Accuracy for max_depth=4: 0.290625\n",
      "Accuracy for max_depth=5: 0.2947916666666667\n",
      "Accuracy for max_depth=6: 0.3125\n",
      "Accuracy for max_depth=7: 0.3229166666666667\n",
      "Accuracy for max_depth=8: 0.31979166666666664\n",
      "Accuracy for max_depth=9: 0.3177083333333333\n",
      "Accuracy for max_depth=10: 0.33958333333333335\n",
      "Accuracy for max_depth=11: 0.3177083333333333\n",
      "Accuracy for max_depth=12: 0.3125\n",
      "Accuracy for max_depth=13: 0.31666666666666665\n",
      "Accuracy for max_depth=14: 0.3145833333333333\n",
      "Accuracy for max_depth=15: 0.3177083333333333\n",
      "Accuracy for max_depth=16: 0.3145833333333333\n",
      "Accuracy for max_depth=17: 0.3145833333333333\n",
      "Accuracy for max_depth=18: 0.3177083333333333\n",
      "Accuracy for max_depth=19: 0.321875\n",
      "Accuracy for max_depth=20: 0.325\n"
     ]
    },
    {
     "data": {
      "application/vnd.plotly.v1+json": {
       "config": {
        "plotlyServerURL": "https://plot.ly"
       },
       "data": [
        {
         "mode": "lines+markers",
         "type": "scatter",
         "x": [
          1,
          2,
          3,
          4,
          5,
          6,
          7,
          8,
          9,
          10,
          11,
          12,
          13,
          14,
          15,
          16,
          17,
          18,
          19,
          20
         ],
         "y": [
          0.25729166666666664,
          0.26666666666666666,
          0.2864583333333333,
          0.290625,
          0.2947916666666667,
          0.3125,
          0.3229166666666667,
          0.31979166666666664,
          0.3177083333333333,
          0.33958333333333335,
          0.3177083333333333,
          0.3125,
          0.31666666666666665,
          0.3145833333333333,
          0.3177083333333333,
          0.3145833333333333,
          0.3145833333333333,
          0.3177083333333333,
          0.321875,
          0.325
         ]
        }
       ],
       "layout": {
        "plot_bgcolor": "white",
        "template": {
         "data": {
          "bar": [
           {
            "error_x": {
             "color": "#2a3f5f"
            },
            "error_y": {
             "color": "#2a3f5f"
            },
            "marker": {
             "line": {
              "color": "#E5ECF6",
              "width": 0.5
             },
             "pattern": {
              "fillmode": "overlay",
              "size": 10,
              "solidity": 0.2
             }
            },
            "type": "bar"
           }
          ],
          "barpolar": [
           {
            "marker": {
             "line": {
              "color": "#E5ECF6",
              "width": 0.5
             },
             "pattern": {
              "fillmode": "overlay",
              "size": 10,
              "solidity": 0.2
             }
            },
            "type": "barpolar"
           }
          ],
          "carpet": [
           {
            "aaxis": {
             "endlinecolor": "#2a3f5f",
             "gridcolor": "white",
             "linecolor": "white",
             "minorgridcolor": "white",
             "startlinecolor": "#2a3f5f"
            },
            "baxis": {
             "endlinecolor": "#2a3f5f",
             "gridcolor": "white",
             "linecolor": "white",
             "minorgridcolor": "white",
             "startlinecolor": "#2a3f5f"
            },
            "type": "carpet"
           }
          ],
          "choropleth": [
           {
            "colorbar": {
             "outlinewidth": 0,
             "ticks": ""
            },
            "type": "choropleth"
           }
          ],
          "contour": [
           {
            "colorbar": {
             "outlinewidth": 0,
             "ticks": ""
            },
            "colorscale": [
             [
              0,
              "#0d0887"
             ],
             [
              0.1111111111111111,
              "#46039f"
             ],
             [
              0.2222222222222222,
              "#7201a8"
             ],
             [
              0.3333333333333333,
              "#9c179e"
             ],
             [
              0.4444444444444444,
              "#bd3786"
             ],
             [
              0.5555555555555556,
              "#d8576b"
             ],
             [
              0.6666666666666666,
              "#ed7953"
             ],
             [
              0.7777777777777778,
              "#fb9f3a"
             ],
             [
              0.8888888888888888,
              "#fdca26"
             ],
             [
              1,
              "#f0f921"
             ]
            ],
            "type": "contour"
           }
          ],
          "contourcarpet": [
           {
            "colorbar": {
             "outlinewidth": 0,
             "ticks": ""
            },
            "type": "contourcarpet"
           }
          ],
          "heatmap": [
           {
            "colorbar": {
             "outlinewidth": 0,
             "ticks": ""
            },
            "colorscale": [
             [
              0,
              "#0d0887"
             ],
             [
              0.1111111111111111,
              "#46039f"
             ],
             [
              0.2222222222222222,
              "#7201a8"
             ],
             [
              0.3333333333333333,
              "#9c179e"
             ],
             [
              0.4444444444444444,
              "#bd3786"
             ],
             [
              0.5555555555555556,
              "#d8576b"
             ],
             [
              0.6666666666666666,
              "#ed7953"
             ],
             [
              0.7777777777777778,
              "#fb9f3a"
             ],
             [
              0.8888888888888888,
              "#fdca26"
             ],
             [
              1,
              "#f0f921"
             ]
            ],
            "type": "heatmap"
           }
          ],
          "heatmapgl": [
           {
            "colorbar": {
             "outlinewidth": 0,
             "ticks": ""
            },
            "colorscale": [
             [
              0,
              "#0d0887"
             ],
             [
              0.1111111111111111,
              "#46039f"
             ],
             [
              0.2222222222222222,
              "#7201a8"
             ],
             [
              0.3333333333333333,
              "#9c179e"
             ],
             [
              0.4444444444444444,
              "#bd3786"
             ],
             [
              0.5555555555555556,
              "#d8576b"
             ],
             [
              0.6666666666666666,
              "#ed7953"
             ],
             [
              0.7777777777777778,
              "#fb9f3a"
             ],
             [
              0.8888888888888888,
              "#fdca26"
             ],
             [
              1,
              "#f0f921"
             ]
            ],
            "type": "heatmapgl"
           }
          ],
          "histogram": [
           {
            "marker": {
             "pattern": {
              "fillmode": "overlay",
              "size": 10,
              "solidity": 0.2
             }
            },
            "type": "histogram"
           }
          ],
          "histogram2d": [
           {
            "colorbar": {
             "outlinewidth": 0,
             "ticks": ""
            },
            "colorscale": [
             [
              0,
              "#0d0887"
             ],
             [
              0.1111111111111111,
              "#46039f"
             ],
             [
              0.2222222222222222,
              "#7201a8"
             ],
             [
              0.3333333333333333,
              "#9c179e"
             ],
             [
              0.4444444444444444,
              "#bd3786"
             ],
             [
              0.5555555555555556,
              "#d8576b"
             ],
             [
              0.6666666666666666,
              "#ed7953"
             ],
             [
              0.7777777777777778,
              "#fb9f3a"
             ],
             [
              0.8888888888888888,
              "#fdca26"
             ],
             [
              1,
              "#f0f921"
             ]
            ],
            "type": "histogram2d"
           }
          ],
          "histogram2dcontour": [
           {
            "colorbar": {
             "outlinewidth": 0,
             "ticks": ""
            },
            "colorscale": [
             [
              0,
              "#0d0887"
             ],
             [
              0.1111111111111111,
              "#46039f"
             ],
             [
              0.2222222222222222,
              "#7201a8"
             ],
             [
              0.3333333333333333,
              "#9c179e"
             ],
             [
              0.4444444444444444,
              "#bd3786"
             ],
             [
              0.5555555555555556,
              "#d8576b"
             ],
             [
              0.6666666666666666,
              "#ed7953"
             ],
             [
              0.7777777777777778,
              "#fb9f3a"
             ],
             [
              0.8888888888888888,
              "#fdca26"
             ],
             [
              1,
              "#f0f921"
             ]
            ],
            "type": "histogram2dcontour"
           }
          ],
          "mesh3d": [
           {
            "colorbar": {
             "outlinewidth": 0,
             "ticks": ""
            },
            "type": "mesh3d"
           }
          ],
          "parcoords": [
           {
            "line": {
             "colorbar": {
              "outlinewidth": 0,
              "ticks": ""
             }
            },
            "type": "parcoords"
           }
          ],
          "pie": [
           {
            "automargin": true,
            "type": "pie"
           }
          ],
          "scatter": [
           {
            "marker": {
             "colorbar": {
              "outlinewidth": 0,
              "ticks": ""
             }
            },
            "type": "scatter"
           }
          ],
          "scatter3d": [
           {
            "line": {
             "colorbar": {
              "outlinewidth": 0,
              "ticks": ""
             }
            },
            "marker": {
             "colorbar": {
              "outlinewidth": 0,
              "ticks": ""
             }
            },
            "type": "scatter3d"
           }
          ],
          "scattercarpet": [
           {
            "marker": {
             "colorbar": {
              "outlinewidth": 0,
              "ticks": ""
             }
            },
            "type": "scattercarpet"
           }
          ],
          "scattergeo": [
           {
            "marker": {
             "colorbar": {
              "outlinewidth": 0,
              "ticks": ""
             }
            },
            "type": "scattergeo"
           }
          ],
          "scattergl": [
           {
            "marker": {
             "colorbar": {
              "outlinewidth": 0,
              "ticks": ""
             }
            },
            "type": "scattergl"
           }
          ],
          "scattermapbox": [
           {
            "marker": {
             "colorbar": {
              "outlinewidth": 0,
              "ticks": ""
             }
            },
            "type": "scattermapbox"
           }
          ],
          "scatterpolar": [
           {
            "marker": {
             "colorbar": {
              "outlinewidth": 0,
              "ticks": ""
             }
            },
            "type": "scatterpolar"
           }
          ],
          "scatterpolargl": [
           {
            "marker": {
             "colorbar": {
              "outlinewidth": 0,
              "ticks": ""
             }
            },
            "type": "scatterpolargl"
           }
          ],
          "scatterternary": [
           {
            "marker": {
             "colorbar": {
              "outlinewidth": 0,
              "ticks": ""
             }
            },
            "type": "scatterternary"
           }
          ],
          "surface": [
           {
            "colorbar": {
             "outlinewidth": 0,
             "ticks": ""
            },
            "colorscale": [
             [
              0,
              "#0d0887"
             ],
             [
              0.1111111111111111,
              "#46039f"
             ],
             [
              0.2222222222222222,
              "#7201a8"
             ],
             [
              0.3333333333333333,
              "#9c179e"
             ],
             [
              0.4444444444444444,
              "#bd3786"
             ],
             [
              0.5555555555555556,
              "#d8576b"
             ],
             [
              0.6666666666666666,
              "#ed7953"
             ],
             [
              0.7777777777777778,
              "#fb9f3a"
             ],
             [
              0.8888888888888888,
              "#fdca26"
             ],
             [
              1,
              "#f0f921"
             ]
            ],
            "type": "surface"
           }
          ],
          "table": [
           {
            "cells": {
             "fill": {
              "color": "#EBF0F8"
             },
             "line": {
              "color": "white"
             }
            },
            "header": {
             "fill": {
              "color": "#C8D4E3"
             },
             "line": {
              "color": "white"
             }
            },
            "type": "table"
           }
          ]
         },
         "layout": {
          "annotationdefaults": {
           "arrowcolor": "#2a3f5f",
           "arrowhead": 0,
           "arrowwidth": 1
          },
          "autotypenumbers": "strict",
          "coloraxis": {
           "colorbar": {
            "outlinewidth": 0,
            "ticks": ""
           }
          },
          "colorscale": {
           "diverging": [
            [
             0,
             "#8e0152"
            ],
            [
             0.1,
             "#c51b7d"
            ],
            [
             0.2,
             "#de77ae"
            ],
            [
             0.3,
             "#f1b6da"
            ],
            [
             0.4,
             "#fde0ef"
            ],
            [
             0.5,
             "#f7f7f7"
            ],
            [
             0.6,
             "#e6f5d0"
            ],
            [
             0.7,
             "#b8e186"
            ],
            [
             0.8,
             "#7fbc41"
            ],
            [
             0.9,
             "#4d9221"
            ],
            [
             1,
             "#276419"
            ]
           ],
           "sequential": [
            [
             0,
             "#0d0887"
            ],
            [
             0.1111111111111111,
             "#46039f"
            ],
            [
             0.2222222222222222,
             "#7201a8"
            ],
            [
             0.3333333333333333,
             "#9c179e"
            ],
            [
             0.4444444444444444,
             "#bd3786"
            ],
            [
             0.5555555555555556,
             "#d8576b"
            ],
            [
             0.6666666666666666,
             "#ed7953"
            ],
            [
             0.7777777777777778,
             "#fb9f3a"
            ],
            [
             0.8888888888888888,
             "#fdca26"
            ],
            [
             1,
             "#f0f921"
            ]
           ],
           "sequentialminus": [
            [
             0,
             "#0d0887"
            ],
            [
             0.1111111111111111,
             "#46039f"
            ],
            [
             0.2222222222222222,
             "#7201a8"
            ],
            [
             0.3333333333333333,
             "#9c179e"
            ],
            [
             0.4444444444444444,
             "#bd3786"
            ],
            [
             0.5555555555555556,
             "#d8576b"
            ],
            [
             0.6666666666666666,
             "#ed7953"
            ],
            [
             0.7777777777777778,
             "#fb9f3a"
            ],
            [
             0.8888888888888888,
             "#fdca26"
            ],
            [
             1,
             "#f0f921"
            ]
           ]
          },
          "colorway": [
           "#636efa",
           "#EF553B",
           "#00cc96",
           "#ab63fa",
           "#FFA15A",
           "#19d3f3",
           "#FF6692",
           "#B6E880",
           "#FF97FF",
           "#FECB52"
          ],
          "font": {
           "color": "#2a3f5f"
          },
          "geo": {
           "bgcolor": "white",
           "lakecolor": "white",
           "landcolor": "#E5ECF6",
           "showlakes": true,
           "showland": true,
           "subunitcolor": "white"
          },
          "hoverlabel": {
           "align": "left"
          },
          "hovermode": "closest",
          "mapbox": {
           "style": "light"
          },
          "paper_bgcolor": "white",
          "plot_bgcolor": "#E5ECF6",
          "polar": {
           "angularaxis": {
            "gridcolor": "white",
            "linecolor": "white",
            "ticks": ""
           },
           "bgcolor": "#E5ECF6",
           "radialaxis": {
            "gridcolor": "white",
            "linecolor": "white",
            "ticks": ""
           }
          },
          "scene": {
           "xaxis": {
            "backgroundcolor": "#E5ECF6",
            "gridcolor": "white",
            "gridwidth": 2,
            "linecolor": "white",
            "showbackground": true,
            "ticks": "",
            "zerolinecolor": "white"
           },
           "yaxis": {
            "backgroundcolor": "#E5ECF6",
            "gridcolor": "white",
            "gridwidth": 2,
            "linecolor": "white",
            "showbackground": true,
            "ticks": "",
            "zerolinecolor": "white"
           },
           "zaxis": {
            "backgroundcolor": "#E5ECF6",
            "gridcolor": "white",
            "gridwidth": 2,
            "linecolor": "white",
            "showbackground": true,
            "ticks": "",
            "zerolinecolor": "white"
           }
          },
          "shapedefaults": {
           "line": {
            "color": "#2a3f5f"
           }
          },
          "ternary": {
           "aaxis": {
            "gridcolor": "white",
            "linecolor": "white",
            "ticks": ""
           },
           "baxis": {
            "gridcolor": "white",
            "linecolor": "white",
            "ticks": ""
           },
           "bgcolor": "#E5ECF6",
           "caxis": {
            "gridcolor": "white",
            "linecolor": "white",
            "ticks": ""
           }
          },
          "title": {
           "x": 0.05
          },
          "xaxis": {
           "automargin": true,
           "gridcolor": "white",
           "linecolor": "white",
           "ticks": "",
           "title": {
            "standoff": 15
           },
           "zerolinecolor": "white",
           "zerolinewidth": 2
          },
          "yaxis": {
           "automargin": true,
           "gridcolor": "white",
           "linecolor": "white",
           "ticks": "",
           "title": {
            "standoff": 15
           },
           "zerolinecolor": "white",
           "zerolinewidth": 2
          }
         }
        },
        "title": {
         "text": "Decision Tree Accuracy over different values of max_depth"
        },
        "xaxis": {
         "title": {
          "text": "max_depth"
         }
        },
        "yaxis": {
         "title": {
          "text": "Accuracy"
         }
        }
       }
      }
     },
     "metadata": {},
     "output_type": "display_data"
    }
   ],
   "source": [
    "# Initializing the Bag of Words model\n",
    "bow = CountVectorizer()\n",
    "\n",
    "# Testing different values of max_depth for Decision Tree\n",
    "max_depth_values = range(1, 21)\n",
    "accuracies = []\n",
    "\n",
    "\n",
    "for max_depth in max_depth_values:\n",
    "    dt = DecisionTreeClassifier(max_depth=max_depth)\n",
    "    pipe = Pipeline([('bow', bow), ('dt', dt)])\n",
    "    \n",
    "    pipe.fit(train['sentence'], train['difficulty'])\n",
    "    preds = pipe.predict(test['sentence'])\n",
    "    \n",
    "    accuracy = accuracy_score(test['difficulty'], preds)\n",
    "    accuracies.append(accuracy)\n",
    "    print(f\"Accuracy for max_depth={max_depth}: {accuracy}\")\n",
    "\n",
    "# Plotting the accuracy for each max_depth value\n",
    "fig = go.Figure(data=go.Scatter(x=list(max_depth_values), y=accuracies, mode='lines+markers'))\n",
    "fig.update_layout(title='Decision Tree Accuracy over different values of max_depth',\n",
    "                  xaxis_title='max_depth',\n",
    "                  yaxis_title='Accuracy',\n",
    "                  plot_bgcolor='white')\n",
    "fig.show()\n",
    "\n",
    "\n",
    "\n",
    "\n",
    "\n"
   ]
  },
  {
   "cell_type": "code",
   "execution_count": 151,
   "metadata": {},
   "outputs": [
    {
     "name": "stdout",
     "output_type": "stream",
     "text": [
      "0.3375\n",
      "              precision    recall  f1-score   support\n",
      "\n",
      "          A1       0.46      0.58      0.52       166\n",
      "          A2       0.23      0.34      0.27       158\n",
      "          B1       0.43      0.16      0.24       166\n",
      "          B2       0.28      0.40      0.33       153\n",
      "          C1       0.31      0.34      0.33       152\n",
      "          C2       0.46      0.20      0.28       165\n",
      "\n",
      "    accuracy                           0.34       960\n",
      "   macro avg       0.36      0.34      0.33       960\n",
      "weighted avg       0.37      0.34      0.33       960\n",
      "\n"
     ]
    }
   ],
   "source": [
    "# Initializing Bag of Words model\n",
    "bow = CountVectorizer()\n",
    "dt = DecisionTreeClassifier(max_depth=10)\n",
    "pipe = Pipeline([('bow', bow), ('dt', dt)])\n",
    "\n",
    "# Training and evaluating the model\n",
    "pipe.fit(train['sentence'], train['difficulty'])\n",
    "preds = pipe.predict(test['sentence'])\n",
    "print(accuracy_score(test['difficulty'], preds))\n",
    "print(classification_report(test['difficulty'], preds))"
   ]
  },
  {
   "cell_type": "markdown",
   "metadata": {},
   "source": [
    "# Random Forest"
   ]
  },
  {
   "cell_type": "markdown",
   "metadata": {},
   "source": [
    "#### without hyper parameter tuning"
   ]
  },
  {
   "cell_type": "code",
   "execution_count": 152,
   "metadata": {},
   "outputs": [
    {
     "name": "stdout",
     "output_type": "stream",
     "text": [
      "0.37916666666666665\n",
      "              precision    recall  f1-score   support\n",
      "\n",
      "          A1       0.38      0.83      0.52       166\n",
      "          A2       0.28      0.25      0.27       158\n",
      "          B1       0.35      0.28      0.31       166\n",
      "          B2       0.38      0.29      0.33       153\n",
      "          C1       0.39      0.32      0.35       152\n",
      "          C2       0.59      0.29      0.39       165\n",
      "\n",
      "    accuracy                           0.38       960\n",
      "   macro avg       0.40      0.38      0.36       960\n",
      "weighted avg       0.40      0.38      0.36       960\n",
      "\n"
     ]
    }
   ],
   "source": [
    "# Pipeline with Bag of Words and Random Forest Classifier\n",
    "bow = CountVectorizer()\n",
    "rf = RandomForestClassifier()\n",
    "pipe = Pipeline([('bow', bow), ('rf', rf)])\n",
    "\n",
    "# Training the model and making predictions\n",
    "pipe.fit(train['sentence'], train['difficulty'])\n",
    "preds = pipe.predict(test['sentence'])\n",
    "\n",
    "# Output accuracy and classification report\n",
    "print(accuracy_score(test['difficulty'], preds))\n",
    "print(classification_report(test['difficulty'], preds))\n"
   ]
  },
  {
   "cell_type": "markdown",
   "metadata": {},
   "source": [
    "#### with hyper parameter tuning"
   ]
  },
  {
   "cell_type": "code",
   "execution_count": 153,
   "metadata": {},
   "outputs": [
    {
     "name": "stdout",
     "output_type": "stream",
     "text": [
      "Best Parameters:  {'bow__max_df': 1.0, 'bow__min_df': 2, 'bow__ngram_range': (1, 1), 'rf__max_depth': 20, 'rf__n_estimators': 200}\n",
      "Best Cross-Validation Score:  0.38307291666666665\n",
      "Best Estimator:  Pipeline(steps=[('bow', CountVectorizer(min_df=2)),\n",
      "                ('rf', RandomForestClassifier(max_depth=20, n_estimators=200))])\n",
      "Test Accuracy:  0.3770833333333333\n",
      "Accuracy Score:  0.3770833333333333\n",
      "Classification Report:\n",
      "               precision    recall  f1-score   support\n",
      "\n",
      "          A1       0.38      0.83      0.52       166\n",
      "          A2       0.32      0.18      0.23       158\n",
      "          B1       0.41      0.13      0.19       166\n",
      "          B2       0.35      0.29      0.32       153\n",
      "          C1       0.35      0.39      0.37       152\n",
      "          C2       0.44      0.42      0.43       165\n",
      "\n",
      "    accuracy                           0.38       960\n",
      "   macro avg       0.38      0.37      0.34       960\n",
      "weighted avg       0.38      0.38      0.35       960\n",
      "\n"
     ]
    }
   ],
   "source": [
    "# Pipeline setup with Bag of Words and Random Forest Classifier\n",
    "bow = CountVectorizer()\n",
    "rf = RandomForestClassifier()\n",
    "\n",
    "pipe = Pipeline([('bow', bow), ('rf', rf)])\n",
    "\n",
    "# Defining the parameter grid for hyperparameter tuning\n",
    "param_grid = {\n",
    "    'bow__max_df': [0.5, 1.0],\n",
    "    'bow__min_df': [1, 2, 3],\n",
    "    'bow__ngram_range': [(1, 1), (1, 2)],\n",
    "    'rf__n_estimators': [50, 100, 200],\n",
    "    'rf__max_depth': [5, 10, 20],\n",
    "}\n",
    "\n",
    "# Using GridSearchCV to find the best model parameters\n",
    "grid = GridSearchCV(pipe, param_grid, cv=3, n_jobs=-1)\n",
    "grid.fit(train['sentence'], train['difficulty'])\n",
    "\n",
    "# Outputting the best parameters and performance scores\n",
    "print(\"Best Parameters: \", grid.best_params_)\n",
    "print(\"Best Cross-Validation Score: \", grid.best_score_)\n",
    "print(\"Best Estimator: \", grid.best_estimator_)\n",
    "test_accuracy = grid.score(test['sentence'], test['difficulty'])\n",
    "print(\"Test Accuracy: \", test_accuracy)\n",
    "\n",
    "# Making predictions and printing evaluation metrics\n",
    "preds = grid.predict(test['sentence'])\n",
    "print(\"Accuracy Score: \", accuracy_score(test['difficulty'], preds))\n",
    "print(\"Classification Report:\\n\", classification_report(test['difficulty'], preds))\n"
   ]
  },
  {
   "cell_type": "markdown",
   "metadata": {},
   "source": [
    "# Results"
   ]
  },
  {
   "cell_type": "code",
   "execution_count": 154,
   "metadata": {},
   "outputs": [
    {
     "data": {
      "text/html": [
       "<div>\n",
       "<style scoped>\n",
       "    .dataframe tbody tr th:only-of-type {\n",
       "        vertical-align: middle;\n",
       "    }\n",
       "\n",
       "    .dataframe tbody tr th {\n",
       "        vertical-align: top;\n",
       "    }\n",
       "\n",
       "    .dataframe thead th {\n",
       "        text-align: right;\n",
       "    }\n",
       "</style>\n",
       "<table border=\"1\" class=\"dataframe\">\n",
       "  <thead>\n",
       "    <tr style=\"text-align: right;\">\n",
       "      <th></th>\n",
       "      <th>Logistic Regression</th>\n",
       "      <th>KNN</th>\n",
       "      <th>DecisionTree</th>\n",
       "      <th>RandomForest</th>\n",
       "    </tr>\n",
       "  </thead>\n",
       "  <tbody>\n",
       "    <tr>\n",
       "      <th>precision</th>\n",
       "      <td>0.47</td>\n",
       "      <td>0.32</td>\n",
       "      <td>0.36</td>\n",
       "      <td>0.38</td>\n",
       "    </tr>\n",
       "    <tr>\n",
       "      <th>recall</th>\n",
       "      <td>0.47</td>\n",
       "      <td>0.24</td>\n",
       "      <td>0.34</td>\n",
       "      <td>0.38</td>\n",
       "    </tr>\n",
       "    <tr>\n",
       "      <th>f1-score</th>\n",
       "      <td>0.47</td>\n",
       "      <td>0.21</td>\n",
       "      <td>0.33</td>\n",
       "      <td>0.34</td>\n",
       "    </tr>\n",
       "    <tr>\n",
       "      <th>accuracy</th>\n",
       "      <td>0.48</td>\n",
       "      <td>0.25</td>\n",
       "      <td>0.34</td>\n",
       "      <td>0.38</td>\n",
       "    </tr>\n",
       "  </tbody>\n",
       "</table>\n",
       "</div>"
      ],
      "text/plain": [
       "          Logistic Regression   KNN DecisionTree RandomForest\n",
       "precision                0.47  0.32         0.36         0.38\n",
       "recall                   0.47  0.24         0.34         0.38\n",
       "f1-score                 0.47  0.21         0.33         0.34\n",
       "accuracy                 0.48  0.25         0.34         0.38"
      ]
     },
     "execution_count": 154,
     "metadata": {},
     "output_type": "execute_result"
    }
   ],
   "source": [
    "# Defining metrics and classifies for performance comparison\n",
    "metrics = ['precision', 'recall', 'f1-score', 'accuracy']\n",
    "classifiers = ['Logistic Regression', 'KNN', 'DecisionTree', 'RandomForest']\n",
    "\n",
    "# Creating a dataframe to store the performance scores\n",
    "performance_df = pd.DataFrame(index=metrics, columns=classifiers)\n",
    "\n",
    "# Populating the DataFrame with performance scores for each classifier\n",
    "performance_df['Logistic Regression'] = ['0.47', '0.47', '0.47', '0.48']\n",
    "performance_df['KNN'] = ['0.32', '0.24', '0.21', '0.25']\n",
    "performance_df['DecisionTree'] = ['0.36', '0.34', '0.33', '0.34']\n",
    "performance_df['RandomForest'] = ['0.38', '0.38', '0.34', '0.38']\n",
    "\n",
    "# Displaying the performance DataFrame\n",
    "performance_df\n"
   ]
  }
 ],
 "metadata": {
  "kernelspec": {
   "display_name": "base",
   "language": "python",
   "name": "python3"
  },
  "language_info": {
   "codemirror_mode": {
    "name": "ipython",
    "version": 3
   },
   "file_extension": ".py",
   "mimetype": "text/x-python",
   "name": "python",
   "nbconvert_exporter": "python",
   "pygments_lexer": "ipython3",
   "version": "3.10.9"
  }
 },
 "nbformat": 4,
 "nbformat_minor": 2
}
