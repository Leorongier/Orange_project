{
 "cells": [
  {
   "cell_type": "code",
   "execution_count": 56,
   "metadata": {},
   "outputs": [],
   "source": [
    "# Suppressing all warnings for cleaner output\n",
    "import warnings\n",
    "warnings.filterwarnings('ignore')\n",
    "\n",
    "# Importing essential libraries for data manipulation and machine learning\n",
    "import pandas as pd\n",
    "import numpy as np\n",
    "from sentence_transformers import SentenceTransformer\n",
    "from sklearn.linear_model import LogisticRegression\n",
    "from sklearn.model_selection import train_test_split\n",
    "from sklearn.metrics import accuracy_score, classification_report\n",
    "from sklearn.svm import SVC\n",
    "import torch\n",
    "from transformers import AutoTokenizer, AutoModel"
   ]
  },
  {
   "cell_type": "code",
   "execution_count": 57,
   "metadata": {},
   "outputs": [
    {
     "data": {
      "text/html": [
       "<div>\n",
       "<style scoped>\n",
       "    .dataframe tbody tr th:only-of-type {\n",
       "        vertical-align: middle;\n",
       "    }\n",
       "\n",
       "    .dataframe tbody tr th {\n",
       "        vertical-align: top;\n",
       "    }\n",
       "\n",
       "    .dataframe thead th {\n",
       "        text-align: right;\n",
       "    }\n",
       "</style>\n",
       "<table border=\"1\" class=\"dataframe\">\n",
       "  <thead>\n",
       "    <tr style=\"text-align: right;\">\n",
       "      <th></th>\n",
       "      <th>id</th>\n",
       "      <th>sentence</th>\n",
       "      <th>difficulty</th>\n",
       "    </tr>\n",
       "  </thead>\n",
       "  <tbody>\n",
       "    <tr>\n",
       "      <th>0</th>\n",
       "      <td>0</td>\n",
       "      <td>Les coûts kilométriques réels peuvent diverger...</td>\n",
       "      <td>C1</td>\n",
       "    </tr>\n",
       "    <tr>\n",
       "      <th>1</th>\n",
       "      <td>1</td>\n",
       "      <td>Le bleu, c'est ma couleur préférée mais je n'a...</td>\n",
       "      <td>A1</td>\n",
       "    </tr>\n",
       "    <tr>\n",
       "      <th>2</th>\n",
       "      <td>2</td>\n",
       "      <td>Le test de niveau en français est sur le site ...</td>\n",
       "      <td>A1</td>\n",
       "    </tr>\n",
       "    <tr>\n",
       "      <th>3</th>\n",
       "      <td>3</td>\n",
       "      <td>Est-ce que ton mari est aussi de Boston?</td>\n",
       "      <td>A1</td>\n",
       "    </tr>\n",
       "    <tr>\n",
       "      <th>4</th>\n",
       "      <td>4</td>\n",
       "      <td>Dans les écoles de commerce, dans les couloirs...</td>\n",
       "      <td>B1</td>\n",
       "    </tr>\n",
       "  </tbody>\n",
       "</table>\n",
       "</div>"
      ],
      "text/plain": [
       "   id                                           sentence difficulty\n",
       "0   0  Les coûts kilométriques réels peuvent diverger...         C1\n",
       "1   1  Le bleu, c'est ma couleur préférée mais je n'a...         A1\n",
       "2   2  Le test de niveau en français est sur le site ...         A1\n",
       "3   3           Est-ce que ton mari est aussi de Boston?         A1\n",
       "4   4  Dans les écoles de commerce, dans les couloirs...         B1"
      ]
     },
     "execution_count": 57,
     "metadata": {},
     "output_type": "execute_result"
    }
   ],
   "source": [
    "# Loading the training data\n",
    "data = pd.read_csv('training_data.csv')\n",
    "data.head()"
   ]
  },
  {
   "cell_type": "code",
   "execution_count": 58,
   "metadata": {},
   "outputs": [
    {
     "data": {
      "text/html": [
       "<div>\n",
       "<style scoped>\n",
       "    .dataframe tbody tr th:only-of-type {\n",
       "        vertical-align: middle;\n",
       "    }\n",
       "\n",
       "    .dataframe tbody tr th {\n",
       "        vertical-align: top;\n",
       "    }\n",
       "\n",
       "    .dataframe thead th {\n",
       "        text-align: right;\n",
       "    }\n",
       "</style>\n",
       "<table border=\"1\" class=\"dataframe\">\n",
       "  <thead>\n",
       "    <tr style=\"text-align: right;\">\n",
       "      <th></th>\n",
       "      <th>id</th>\n",
       "      <th>sentence</th>\n",
       "      <th>difficulty</th>\n",
       "      <th>embedding</th>\n",
       "    </tr>\n",
       "  </thead>\n",
       "  <tbody>\n",
       "    <tr>\n",
       "      <th>0</th>\n",
       "      <td>0</td>\n",
       "      <td>Les coûts kilométriques réels peuvent diverger...</td>\n",
       "      <td>C1</td>\n",
       "      <td>[-0.0463661290705204, -0.039946261793375015, -...</td>\n",
       "    </tr>\n",
       "    <tr>\n",
       "      <th>1</th>\n",
       "      <td>1</td>\n",
       "      <td>Le bleu, c'est ma couleur préférée mais je n'a...</td>\n",
       "      <td>A1</td>\n",
       "      <td>[0.037579141557216644, -0.06782776117324829, -...</td>\n",
       "    </tr>\n",
       "    <tr>\n",
       "      <th>2</th>\n",
       "      <td>2</td>\n",
       "      <td>Le test de niveau en français est sur le site ...</td>\n",
       "      <td>A1</td>\n",
       "      <td>[-0.15025213360786438, 0.09958713501691818, -0...</td>\n",
       "    </tr>\n",
       "    <tr>\n",
       "      <th>3</th>\n",
       "      <td>3</td>\n",
       "      <td>Est-ce que ton mari est aussi de Boston?</td>\n",
       "      <td>A1</td>\n",
       "      <td>[-0.294254332780838, 0.12327229976654053, -0.0...</td>\n",
       "    </tr>\n",
       "    <tr>\n",
       "      <th>4</th>\n",
       "      <td>4</td>\n",
       "      <td>Dans les écoles de commerce, dans les couloirs...</td>\n",
       "      <td>B1</td>\n",
       "      <td>[-0.08921276777982712, 0.24804086983203888, -0...</td>\n",
       "    </tr>\n",
       "  </tbody>\n",
       "</table>\n",
       "</div>"
      ],
      "text/plain": [
       "   id                                           sentence difficulty  \\\n",
       "0   0  Les coûts kilométriques réels peuvent diverger...         C1   \n",
       "1   1  Le bleu, c'est ma couleur préférée mais je n'a...         A1   \n",
       "2   2  Le test de niveau en français est sur le site ...         A1   \n",
       "3   3           Est-ce que ton mari est aussi de Boston?         A1   \n",
       "4   4  Dans les écoles de commerce, dans les couloirs...         B1   \n",
       "\n",
       "                                           embedding  \n",
       "0  [-0.0463661290705204, -0.039946261793375015, -...  \n",
       "1  [0.037579141557216644, -0.06782776117324829, -...  \n",
       "2  [-0.15025213360786438, 0.09958713501691818, -0...  \n",
       "3  [-0.294254332780838, 0.12327229976654053, -0.0...  \n",
       "4  [-0.08921276777982712, 0.24804086983203888, -0...  "
      ]
     },
     "execution_count": 58,
     "metadata": {},
     "output_type": "execute_result"
    }
   ],
   "source": [
    "# Initializing a pre-trained Sentence Transformer model for sentence embeddings\n",
    "model = SentenceTransformer('paraphrase-multilingual-mpnet-base-v2')\n",
    "\n",
    "# Extracting sentences from the data and converting them to a list\n",
    "sentences = data['sentence'].values.tolist()\n",
    "\n",
    "# Generating embeddings for each sentence using the Sentence Transformer model\n",
    "sentence_embeddings = model.encode(sentences)\n",
    "\n",
    "# Adding the generated embeddings as a new column in the DataFrame\n",
    "data['embedding'] = sentence_embeddings.tolist()\n",
    "data.head()"
   ]
  },
  {
   "cell_type": "code",
   "execution_count": 59,
   "metadata": {},
   "outputs": [],
   "source": [
    "# split data into train and test\n",
    "from sklearn.model_selection import train_test_split\n",
    "train, test = train_test_split(data, test_size=0.1, random_state=42)"
   ]
  },
  {
   "cell_type": "markdown",
   "metadata": {},
   "source": [
    "# Logistic Regression with Multililingual Embedding"
   ]
  },
  {
   "cell_type": "code",
   "execution_count": null,
   "metadata": {},
   "outputs": [
    {
     "name": "stdout",
     "output_type": "stream",
     "text": [
      "              precision    recall  f1-score   support\n",
      "\n",
      "          A1       0.69      0.65      0.67        91\n",
      "          A2       0.40      0.47      0.43        72\n",
      "          B1       0.46      0.38      0.42        92\n",
      "          B2       0.51      0.50      0.50        70\n",
      "          C1       0.46      0.46      0.46        71\n",
      "          C2       0.52      0.57      0.55        84\n",
      "\n",
      "    accuracy                           0.51       480\n",
      "   macro avg       0.51      0.51      0.50       480\n",
      "weighted avg       0.51      0.51      0.51       480\n",
      "\n"
     ]
    }
   ],
   "source": [
    "# Converting embeddings to numpy arrays for model training and testing\n",
    "X_train = np.array(train['embedding'].values.tolist())\n",
    "y_train = train['difficulty'].values.tolist()\n",
    "X_test = np.array(test['embedding'].values.tolist())\n",
    "y_test = test['difficulty'].values.tolist()\n",
    "\n",
    "# Training Logistic Regression and making predictions on the test set\n",
    "clf = LogisticRegression(random_state=0).fit(X_train, y_train)\n",
    "y_pred = clf.predict(X_test)\n",
    "\n",
    "# Outputting accuracy and classification report\n",
    "accuracy_score(y_test, y_pred)\n",
    "print(classification_report(y_test, y_pred))"
   ]
  },
  {
   "cell_type": "code",
   "execution_count": 61,
   "metadata": {},
   "outputs": [
    {
     "name": "stdout",
     "output_type": "stream",
     "text": [
      "Model Accuracy: 0.4791666666666667\n",
      "Classification Report:\n",
      "              precision    recall  f1-score   support\n",
      "\n",
      "          A1       0.70      0.70      0.70        91\n",
      "          A2       0.36      0.43      0.39        72\n",
      "          B1       0.47      0.38      0.42        92\n",
      "          B2       0.38      0.40      0.39        70\n",
      "          C1       0.42      0.42      0.42        71\n",
      "          C2       0.49      0.50      0.50        84\n",
      "\n",
      "    accuracy                           0.48       480\n",
      "   macro avg       0.47      0.47      0.47       480\n",
      "weighted avg       0.48      0.48      0.48       480\n",
      "\n"
     ]
    }
   ],
   "source": [
    "# Preparing embeddings and word count features for training and testing\n",
    "train_embeddings = np.array(train['embedding'].tolist())\n",
    "test_embeddings = np.array(test['embedding'].tolist())\n",
    "train_word_counts = train['sentence'].apply(lambda x: len(x.split())).to_numpy().reshape(-1, 1)\n",
    "test_word_counts = test['sentence'].apply(lambda x: len(x.split())).to_numpy().reshape(-1, 1)\n",
    "train_features = np.hstack((train_embeddings, train_word_counts))\n",
    "test_features = np.hstack((test_embeddings, test_word_counts))\n",
    "\n",
    "# Preparing labels\n",
    "train_labels = train['difficulty']\n",
    "test_labels = test['difficulty']\n",
    "\n",
    "# Training Logistic Regression model and making predictions\n",
    "model = LogisticRegression()\n",
    "model.fit(train_features, train_labels)\n",
    "test_predictions = model.predict(test_features)\n",
    "\n",
    "# Calculating and printing model accuracy and classification report\n",
    "accuracy = model.score(test_features, test_labels)\n",
    "print(f\"Model Accuracy: {accuracy}\")\n",
    "\n",
    "report = classification_report(test_labels, test_predictions)\n",
    "print(\"Classification Report:\")\n",
    "print(report)\n"
   ]
  },
  {
   "cell_type": "code",
   "execution_count": 62,
   "metadata": {},
   "outputs": [
    {
     "name": "stderr",
     "output_type": "stream",
     "text": [
      "Some weights of the model checkpoint at MokaExpress/flaubert-french-difficulty were not used when initializing FlaubertModel: ['sequence_summary.summary.weight', 'sequence_summary.summary.bias']\n",
      "- This IS expected if you are initializing FlaubertModel from the checkpoint of a model trained on another task or with another architecture (e.g. initializing a BertForSequenceClassification model from a BertForPreTraining model).\n",
      "- This IS NOT expected if you are initializing FlaubertModel from the checkpoint of a model that you expect to be exactly identical (initializing a BertForSequenceClassification model from a BertForSequenceClassification model).\n"
     ]
    }
   ],
   "source": [
    "# Importing necessary classes from the transformers library\n",
    "from transformers import AutoModel, AutoTokenizer\n",
    "\n",
    "# Identifier for the fine-tuned model\n",
    "finetuned_model_id = 'MokaExpress/flaubert-french-difficulty'\n",
    "\n",
    "# Loading the tokenizer for the specified fine-tuned model\n",
    "tokenizer = AutoTokenizer.from_pretrained(finetuned_model_id)\n",
    "\n",
    "# Loading the model itself\n",
    "model = AutoModel.from_pretrained(finetuned_model_id)\n",
    "\n",
    "\n"
   ]
  },
  {
   "cell_type": "markdown",
   "metadata": {},
   "source": [
    "# Logistic Regression with Finetuned - Embedding"
   ]
  },
  {
   "cell_type": "code",
   "execution_count": 63,
   "metadata": {},
   "outputs": [
    {
     "name": "stderr",
     "output_type": "stream",
     "text": [
      "Some weights of the model checkpoint at MokaExpress/flaubert-french-difficulty were not used when initializing FlaubertModel: ['sequence_summary.summary.weight', 'sequence_summary.summary.bias']\n",
      "- This IS expected if you are initializing FlaubertModel from the checkpoint of a model trained on another task or with another architecture (e.g. initializing a BertForSequenceClassification model from a BertForPreTraining model).\n",
      "- This IS NOT expected if you are initializing FlaubertModel from the checkpoint of a model that you expect to be exactly identical (initializing a BertForSequenceClassification model from a BertForSequenceClassification model).\n"
     ]
    }
   ],
   "source": [
    "# Identifier for the fine-tuned Flaubert model\n",
    "finetuned_model_id = 'MokaExpress/flaubert-french-difficulty'\n",
    "\n",
    "# Loading the tokenizer and model for the specified fine-tuned Flaubert model\n",
    "tokenizer = AutoTokenizer.from_pretrained(finetuned_model_id)\n",
    "model = AutoModel.from_pretrained(finetuned_model_id)\n",
    "model.eval()  # Set the model to evaluation mode\n",
    "\n",
    "# Function to generate embeddings for a sentence using the Flaubert model\n",
    "def embed_flaubert(sentence, model, tokenizer):\n",
    "    inputs = tokenizer(sentence, return_tensors='pt', padding=True, truncation=True)\n",
    "    with torch.no_grad():\n",
    "        outputs = model(**inputs)\n",
    "    cls_embedding = outputs.last_hidden_state[:, 0, :]\n",
    "    return cls_embedding.numpy()\n",
    "\n",
    "\n"
   ]
  },
  {
   "cell_type": "code",
   "execution_count": 64,
   "metadata": {},
   "outputs": [
    {
     "name": "stderr",
     "output_type": "stream",
     "text": [
      "100%|██████████| 4320/4320 [02:58<00:00, 24.20it/s]\n",
      "100%|██████████| 480/480 [00:17<00:00, 27.42it/s]\n"
     ]
    }
   ],
   "source": [
    "# Importing tqdm for progress bar display during processing\n",
    "from tqdm import tqdm\n",
    "tqdm.pandas()\n",
    "\n",
    "# Applying the embed_flaubert function to each sentence in the train set\n",
    "train['flaubert_embedding'] = train['sentence'].progress_apply(lambda x: embed_flaubert(x, model, tokenizer))\n",
    "\n",
    "# Applying the same to each sentence in the test set\n",
    "test['flaubert_embedding'] = test['sentence'].progress_apply(lambda x: embed_flaubert(x, model, tokenizer))\n"
   ]
  },
  {
   "cell_type": "code",
   "execution_count": 65,
   "metadata": {},
   "outputs": [],
   "source": [
    "# flatten the embeddings\n",
    "\n",
    "train['flaubert_embedding_flatten'] = train['flaubert_embedding'].apply(lambda x: x.flatten())\n",
    "test['flaubert_embedding_flatten'] = test['flaubert_embedding'].apply(lambda x: x.flatten())"
   ]
  },
  {
   "cell_type": "code",
   "execution_count": 66,
   "metadata": {},
   "outputs": [
    {
     "name": "stdout",
     "output_type": "stream",
     "text": [
      "              precision    recall  f1-score   support\n",
      "\n",
      "          A1       0.77      0.74      0.75        91\n",
      "          A2       0.55      0.57      0.56        72\n",
      "          B1       0.73      0.66      0.70        92\n",
      "          B2       0.58      0.73      0.65        70\n",
      "          C1       0.65      0.69      0.67        71\n",
      "          C2       0.74      0.64      0.69        84\n",
      "\n",
      "    accuracy                           0.67       480\n",
      "   macro avg       0.67      0.67      0.67       480\n",
      "weighted avg       0.68      0.67      0.67       480\n",
      "\n"
     ]
    }
   ],
   "source": [
    "# Converting Flaubert embeddings to numpy arrays for model input\n",
    "X_train = np.array(train['flaubert_embedding_flatten'].values.tolist())\n",
    "y_train = train['difficulty'].values.tolist()\n",
    "X_test = np.array(test['flaubert_embedding_flatten'].values.tolist())\n",
    "y_test = test['difficulty'].values.tolist()\n",
    "\n",
    "# Training Logistic Regression with Flaubert embeddings as features\n",
    "clf = LogisticRegression(random_state=0).fit(X_train, y_train)\n",
    "\n",
    "# Making predictions on the test set\n",
    "y_pred = clf.predict(X_test)\n",
    "\n",
    "# Evaluating the model's performance\n",
    "accuracy_score(y_test, y_pred)\n",
    "print(classification_report(y_test, y_pred))"
   ]
  },
  {
   "cell_type": "code",
   "execution_count": 67,
   "metadata": {},
   "outputs": [
    {
     "name": "stdout",
     "output_type": "stream",
     "text": [
      "Model Accuracy: 0.6604166666666667\n",
      "Classification Report:\n",
      "              precision    recall  f1-score   support\n",
      "\n",
      "          A1       0.79      0.77      0.78        91\n",
      "          A2       0.57      0.54      0.55        72\n",
      "          B1       0.71      0.65      0.68        92\n",
      "          B2       0.57      0.69      0.62        70\n",
      "          C1       0.59      0.65      0.62        71\n",
      "          C2       0.71      0.64      0.67        84\n",
      "\n",
      "    accuracy                           0.66       480\n",
      "   macro avg       0.66      0.66      0.65       480\n",
      "weighted avg       0.67      0.66      0.66       480\n",
      "\n"
     ]
    }
   ],
   "source": [
    "# Preparing Flaubert embeddings and word count features\n",
    "train_embeddings = np.array(train['flaubert_embedding_flatten'].tolist())\n",
    "test_embeddings = np.array(test['flaubert_embedding_flatten'].tolist())\n",
    "train_word_counts = train['sentence'].apply(lambda x: len(x.split())).to_numpy().reshape(-1, 1)\n",
    "test_word_counts = test['sentence'].apply(lambda x: len(x.split())).to_numpy().reshape(-1, 1)\n",
    "\n",
    "# Combining embeddings and word counts for training and testing\n",
    "train_features = np.hstack((train_embeddings, train_word_counts))\n",
    "test_features = np.hstack((test_embeddings, test_word_counts))\n",
    "\n",
    "# Preparing labels\n",
    "train_labels = train['difficulty']\n",
    "test_labels = test['difficulty']\n",
    "\n",
    "# Training Logistic Regression model and making predictions\n",
    "model = LogisticRegression()\n",
    "model.fit(train_features, train_labels)\n",
    "\n",
    "# Making predictions and evaluating the model\n",
    "test_predictions = model.predict(test_features)\n",
    "accuracy = model.score(test_features, test_labels)\n",
    "\n",
    "print(f\"Model Accuracy: {accuracy}\")\n",
    "\n",
    "report = classification_report(test_labels, test_predictions)\n",
    "print(\"Classification Report:\")\n",
    "print(report)\n"
   ]
  },
  {
   "cell_type": "markdown",
   "metadata": {},
   "source": [
    "# SVC with Finetuned Embedding"
   ]
  },
  {
   "cell_type": "code",
   "execution_count": 68,
   "metadata": {},
   "outputs": [
    {
     "name": "stdout",
     "output_type": "stream",
     "text": [
      "SVM Accuracy: 0.7395833333333334\n",
      "              precision    recall  f1-score   support\n",
      "\n",
      "          A1       0.85      0.81      0.83        91\n",
      "          A2       0.62      0.74      0.67        72\n",
      "          B1       0.80      0.64      0.71        92\n",
      "          B2       0.67      0.81      0.74        70\n",
      "          C1       0.70      0.68      0.69        71\n",
      "          C2       0.81      0.76      0.79        84\n",
      "\n",
      "    accuracy                           0.74       480\n",
      "   macro avg       0.74      0.74      0.74       480\n",
      "weighted avg       0.75      0.74      0.74       480\n",
      "\n"
     ]
    }
   ],
   "source": [
    "# Preparing data for the SVM model\n",
    "X_train = np.array(train['flaubert_embedding_flatten'].values.tolist())\n",
    "y_train = train['difficulty'].values.tolist()\n",
    "X_test = np.array(test['flaubert_embedding_flatten'].values.tolist())\n",
    "y_test = test['difficulty'].values.tolist()\n",
    "\n",
    "# Training the Support Vector Machine classifier\n",
    "svm_clf = SVC(random_state=0)\n",
    "svm_clf.fit(X_train, y_train)\n",
    "\n",
    "# Predicting and evaluating the SVM model\n",
    "y_pred_svm = svm_clf.predict(X_test)\n",
    "accuracy_svm = accuracy_score(y_test, y_pred_svm)\n",
    "print(\"SVM Accuracy:\", accuracy_svm)\n",
    "print(classification_report(y_test, y_pred_svm))\n"
   ]
  },
  {
   "cell_type": "code",
   "execution_count": 55,
   "metadata": {},
   "outputs": [],
   "source": [
    "# save the model\n",
    "import pickle\n",
    "pickle.dump(svm_clf, open('svm_clf.pkl', 'wb'))\n"
   ]
  },
  {
   "cell_type": "markdown",
   "metadata": {},
   "source": [
    "# XGBOOST with Finetuned model"
   ]
  },
  {
   "cell_type": "code",
   "execution_count": 53,
   "metadata": {},
   "outputs": [
    {
     "name": "stdout",
     "output_type": "stream",
     "text": [
      "GBM Accuracy: 0.7125\n",
      "              precision    recall  f1-score   support\n",
      "\n",
      "           0       0.83      0.81      0.82        91\n",
      "           1       0.59      0.67      0.63        72\n",
      "           2       0.74      0.63      0.68        92\n",
      "           3       0.65      0.76      0.70        70\n",
      "           4       0.66      0.68      0.67        71\n",
      "           5       0.78      0.73      0.75        84\n",
      "\n",
      "    accuracy                           0.71       480\n",
      "   macro avg       0.71      0.71      0.71       480\n",
      "weighted avg       0.72      0.71      0.71       480\n",
      "\n"
     ]
    }
   ],
   "source": [
    "# Importing XGBoost and relevant metrics\n",
    "import xgboost as xgb\n",
    "from sklearn.metrics import accuracy_score, classification_report\n",
    "\n",
    "# Encoding the 'difficulty' labels\n",
    "from sklearn.preprocessing import LabelEncoder\n",
    "label_encoder = LabelEncoder()\n",
    "train['difficulty_encoded'] = label_encoder.fit_transform(train['difficulty'])\n",
    "test['difficulty_encoded'] = label_encoder.transform(test['difficulty'])\n",
    "\n",
    "# Preparing the dataset for XGBoost model training and testing\n",
    "X_train = np.array(train['flaubert_embedding_flatten'].values.tolist())\n",
    "y_train = train['difficulty_encoded'].values.tolist()\n",
    "X_test = np.array(test['flaubert_embedding_flatten'].values.tolist())\n",
    "y_test = test['difficulty_encoded'].values.tolist()\n",
    "\n",
    "# Training the XGBoost Classifier\n",
    "gbm_clf = xgb.XGBClassifier(use_label_encoder=False, eval_metric='mlogloss', random_state=0)\n",
    "gbm_clf.fit(X_train, y_train)\n",
    "\n",
    "# Predictions and evaluation\n",
    "y_pred_gbm = gbm_clf.predict(X_test)\n",
    "accuracy_gbm = accuracy_score(y_test, y_pred_gbm)\n",
    "print(\"GBM Accuracy:\", accuracy_gbm)\n",
    "print(classification_report(y_test, y_pred_gbm))\n"
   ]
  },
  {
   "cell_type": "code",
   "execution_count": null,
   "metadata": {},
   "outputs": [],
   "source": []
  }
 ],
 "metadata": {
  "kernelspec": {
   "display_name": "base",
   "language": "python",
   "name": "python3"
  },
  "language_info": {
   "codemirror_mode": {
    "name": "ipython",
    "version": 3
   },
   "file_extension": ".py",
   "mimetype": "text/x-python",
   "name": "python",
   "nbconvert_exporter": "python",
   "pygments_lexer": "ipython3",
   "version": "3.10.9"
  }
 },
 "nbformat": 4,
 "nbformat_minor": 2
}
